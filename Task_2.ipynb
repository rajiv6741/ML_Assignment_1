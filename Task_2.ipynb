{
  "cells": [
    {
      "cell_type": "markdown",
      "metadata": {
        "id": "view-in-github",
        "colab_type": "text"
      },
      "source": [
        "<a href=\"https://colab.research.google.com/github/rajiv6741/ML_Assignment_1/blob/main/Task_2.ipynb\" target=\"_parent\"><img src=\"https://colab.research.google.com/assets/colab-badge.svg\" alt=\"Open In Colab\"/></a>"
      ]
    },
    {
      "cell_type": "code",
      "source": [
        "!pip install numpy\n",
        "!pip install pandas\n",
        "!pip install matplotlib\n",
        "!pip install surprise"
      ],
      "metadata": {
        "colab": {
          "base_uri": "https://localhost:8080/"
        },
        "id": "sZspjApgdRMC",
        "outputId": "92277470-117f-4d7b-b2b5-958fa7c58eeb"
      },
      "id": "sZspjApgdRMC",
      "execution_count": 2,
      "outputs": [
        {
          "output_type": "stream",
          "name": "stdout",
          "text": [
            "Looking in indexes: https://pypi.org/simple, https://us-python.pkg.dev/colab-wheels/public/simple/\n",
            "Requirement already satisfied: numpy in /usr/local/lib/python3.9/dist-packages (1.22.4)\n",
            "Looking in indexes: https://pypi.org/simple, https://us-python.pkg.dev/colab-wheels/public/simple/\n",
            "Requirement already satisfied: pandas in /usr/local/lib/python3.9/dist-packages (1.5.3)\n",
            "Requirement already satisfied: python-dateutil>=2.8.1 in /usr/local/lib/python3.9/dist-packages (from pandas) (2.8.2)\n",
            "Requirement already satisfied: numpy>=1.20.3 in /usr/local/lib/python3.9/dist-packages (from pandas) (1.22.4)\n",
            "Requirement already satisfied: pytz>=2020.1 in /usr/local/lib/python3.9/dist-packages (from pandas) (2022.7.1)\n",
            "Requirement already satisfied: six>=1.5 in /usr/local/lib/python3.9/dist-packages (from python-dateutil>=2.8.1->pandas) (1.16.0)\n",
            "Looking in indexes: https://pypi.org/simple, https://us-python.pkg.dev/colab-wheels/public/simple/\n",
            "Requirement already satisfied: matplotlib in /usr/local/lib/python3.9/dist-packages (3.7.1)\n",
            "Requirement already satisfied: packaging>=20.0 in /usr/local/lib/python3.9/dist-packages (from matplotlib) (23.0)\n",
            "Requirement already satisfied: pillow>=6.2.0 in /usr/local/lib/python3.9/dist-packages (from matplotlib) (8.4.0)\n",
            "Requirement already satisfied: pyparsing>=2.3.1 in /usr/local/lib/python3.9/dist-packages (from matplotlib) (3.0.9)\n",
            "Requirement already satisfied: kiwisolver>=1.0.1 in /usr/local/lib/python3.9/dist-packages (from matplotlib) (1.4.4)\n",
            "Requirement already satisfied: importlib-resources>=3.2.0 in /usr/local/lib/python3.9/dist-packages (from matplotlib) (5.12.0)\n",
            "Requirement already satisfied: contourpy>=1.0.1 in /usr/local/lib/python3.9/dist-packages (from matplotlib) (1.0.7)\n",
            "Requirement already satisfied: fonttools>=4.22.0 in /usr/local/lib/python3.9/dist-packages (from matplotlib) (4.39.3)\n",
            "Requirement already satisfied: numpy>=1.20 in /usr/local/lib/python3.9/dist-packages (from matplotlib) (1.22.4)\n",
            "Requirement already satisfied: cycler>=0.10 in /usr/local/lib/python3.9/dist-packages (from matplotlib) (0.11.0)\n",
            "Requirement already satisfied: python-dateutil>=2.7 in /usr/local/lib/python3.9/dist-packages (from matplotlib) (2.8.2)\n",
            "Requirement already satisfied: zipp>=3.1.0 in /usr/local/lib/python3.9/dist-packages (from importlib-resources>=3.2.0->matplotlib) (3.15.0)\n",
            "Requirement already satisfied: six>=1.5 in /usr/local/lib/python3.9/dist-packages (from python-dateutil>=2.7->matplotlib) (1.16.0)\n",
            "Looking in indexes: https://pypi.org/simple, https://us-python.pkg.dev/colab-wheels/public/simple/\n",
            "Collecting surprise\n",
            "  Downloading surprise-0.1-py2.py3-none-any.whl (1.8 kB)\n",
            "Collecting scikit-surprise\n",
            "  Downloading scikit-surprise-1.1.3.tar.gz (771 kB)\n",
            "\u001b[2K     \u001b[90m━━━━━━━━━━━━━━━━━━━━━━━━━━━━━━━━━━━━━━\u001b[0m \u001b[32m772.0/772.0 kB\u001b[0m \u001b[31m14.1 MB/s\u001b[0m eta \u001b[36m0:00:00\u001b[0m\n",
            "\u001b[?25h  Preparing metadata (setup.py) ... \u001b[?25l\u001b[?25hdone\n",
            "Requirement already satisfied: joblib>=1.0.0 in /usr/local/lib/python3.9/dist-packages (from scikit-surprise->surprise) (1.2.0)\n",
            "Requirement already satisfied: numpy>=1.17.3 in /usr/local/lib/python3.9/dist-packages (from scikit-surprise->surprise) (1.22.4)\n",
            "Requirement already satisfied: scipy>=1.3.2 in /usr/local/lib/python3.9/dist-packages (from scikit-surprise->surprise) (1.10.1)\n",
            "Building wheels for collected packages: scikit-surprise\n",
            "  Building wheel for scikit-surprise (setup.py) ... \u001b[?25l\u001b[?25hdone\n",
            "  Created wheel for scikit-surprise: filename=scikit_surprise-1.1.3-cp39-cp39-linux_x86_64.whl size=3195815 sha256=d802185b636e72a3a83ec61184d13da08406277c442280fa288de0e0d9183185\n",
            "  Stored in directory: /root/.cache/pip/wheels/c6/3a/46/9b17b3512bdf283c6cb84f59929cdd5199d4e754d596d22784\n",
            "Successfully built scikit-surprise\n",
            "Installing collected packages: scikit-surprise, surprise\n",
            "Successfully installed scikit-surprise-1.1.3 surprise-0.1\n"
          ]
        }
      ]
    },
    {
      "cell_type": "code",
      "execution_count": 3,
      "id": "f4198387",
      "metadata": {
        "id": "f4198387"
      },
      "outputs": [],
      "source": [
        "import numpy as np \n",
        "import pandas as pd \n",
        "import matplotlib.pyplot as plt\n",
        "from surprise import KNNBasic, SVD, Reader, accuracy, Dataset\n",
        "from surprise.model_selection import cross_validate, train_test_split\n",
        "%matplotlib inline"
      ]
    },
    {
      "cell_type": "code",
      "execution_count": 5,
      "id": "117801f6",
      "metadata": {
        "colab": {
          "base_uri": "https://localhost:8080/",
          "height": 423
        },
        "id": "117801f6",
        "outputId": "a66194de-7bc7-40e1-9310-c53d0c001ed9"
      },
      "outputs": [
        {
          "output_type": "execute_result",
          "data": {
            "text/plain": [
              "        userId  movieId  rating   timestamp\n",
              "0            1       31     2.5  1260759144\n",
              "1            1     1029     3.0  1260759179\n",
              "2            1     1061     3.0  1260759182\n",
              "3            1     1129     2.0  1260759185\n",
              "4            1     1172     4.0  1260759205\n",
              "...        ...      ...     ...         ...\n",
              "99999      671     6268     2.5  1065579370\n",
              "100000     671     6269     4.0  1065149201\n",
              "100001     671     6365     4.0  1070940363\n",
              "100002     671     6385     2.5  1070979663\n",
              "100003     671     6565     3.5  1074784724\n",
              "\n",
              "[100004 rows x 4 columns]"
            ],
            "text/html": [
              "\n",
              "  <div id=\"df-47d7778a-6589-4ec2-9403-d1015d494a26\">\n",
              "    <div class=\"colab-df-container\">\n",
              "      <div>\n",
              "<style scoped>\n",
              "    .dataframe tbody tr th:only-of-type {\n",
              "        vertical-align: middle;\n",
              "    }\n",
              "\n",
              "    .dataframe tbody tr th {\n",
              "        vertical-align: top;\n",
              "    }\n",
              "\n",
              "    .dataframe thead th {\n",
              "        text-align: right;\n",
              "    }\n",
              "</style>\n",
              "<table border=\"1\" class=\"dataframe\">\n",
              "  <thead>\n",
              "    <tr style=\"text-align: right;\">\n",
              "      <th></th>\n",
              "      <th>userId</th>\n",
              "      <th>movieId</th>\n",
              "      <th>rating</th>\n",
              "      <th>timestamp</th>\n",
              "    </tr>\n",
              "  </thead>\n",
              "  <tbody>\n",
              "    <tr>\n",
              "      <th>0</th>\n",
              "      <td>1</td>\n",
              "      <td>31</td>\n",
              "      <td>2.5</td>\n",
              "      <td>1260759144</td>\n",
              "    </tr>\n",
              "    <tr>\n",
              "      <th>1</th>\n",
              "      <td>1</td>\n",
              "      <td>1029</td>\n",
              "      <td>3.0</td>\n",
              "      <td>1260759179</td>\n",
              "    </tr>\n",
              "    <tr>\n",
              "      <th>2</th>\n",
              "      <td>1</td>\n",
              "      <td>1061</td>\n",
              "      <td>3.0</td>\n",
              "      <td>1260759182</td>\n",
              "    </tr>\n",
              "    <tr>\n",
              "      <th>3</th>\n",
              "      <td>1</td>\n",
              "      <td>1129</td>\n",
              "      <td>2.0</td>\n",
              "      <td>1260759185</td>\n",
              "    </tr>\n",
              "    <tr>\n",
              "      <th>4</th>\n",
              "      <td>1</td>\n",
              "      <td>1172</td>\n",
              "      <td>4.0</td>\n",
              "      <td>1260759205</td>\n",
              "    </tr>\n",
              "    <tr>\n",
              "      <th>...</th>\n",
              "      <td>...</td>\n",
              "      <td>...</td>\n",
              "      <td>...</td>\n",
              "      <td>...</td>\n",
              "    </tr>\n",
              "    <tr>\n",
              "      <th>99999</th>\n",
              "      <td>671</td>\n",
              "      <td>6268</td>\n",
              "      <td>2.5</td>\n",
              "      <td>1065579370</td>\n",
              "    </tr>\n",
              "    <tr>\n",
              "      <th>100000</th>\n",
              "      <td>671</td>\n",
              "      <td>6269</td>\n",
              "      <td>4.0</td>\n",
              "      <td>1065149201</td>\n",
              "    </tr>\n",
              "    <tr>\n",
              "      <th>100001</th>\n",
              "      <td>671</td>\n",
              "      <td>6365</td>\n",
              "      <td>4.0</td>\n",
              "      <td>1070940363</td>\n",
              "    </tr>\n",
              "    <tr>\n",
              "      <th>100002</th>\n",
              "      <td>671</td>\n",
              "      <td>6385</td>\n",
              "      <td>2.5</td>\n",
              "      <td>1070979663</td>\n",
              "    </tr>\n",
              "    <tr>\n",
              "      <th>100003</th>\n",
              "      <td>671</td>\n",
              "      <td>6565</td>\n",
              "      <td>3.5</td>\n",
              "      <td>1074784724</td>\n",
              "    </tr>\n",
              "  </tbody>\n",
              "</table>\n",
              "<p>100004 rows × 4 columns</p>\n",
              "</div>\n",
              "      <button class=\"colab-df-convert\" onclick=\"convertToInteractive('df-47d7778a-6589-4ec2-9403-d1015d494a26')\"\n",
              "              title=\"Convert this dataframe to an interactive table.\"\n",
              "              style=\"display:none;\">\n",
              "        \n",
              "  <svg xmlns=\"http://www.w3.org/2000/svg\" height=\"24px\"viewBox=\"0 0 24 24\"\n",
              "       width=\"24px\">\n",
              "    <path d=\"M0 0h24v24H0V0z\" fill=\"none\"/>\n",
              "    <path d=\"M18.56 5.44l.94 2.06.94-2.06 2.06-.94-2.06-.94-.94-2.06-.94 2.06-2.06.94zm-11 1L8.5 8.5l.94-2.06 2.06-.94-2.06-.94L8.5 2.5l-.94 2.06-2.06.94zm10 10l.94 2.06.94-2.06 2.06-.94-2.06-.94-.94-2.06-.94 2.06-2.06.94z\"/><path d=\"M17.41 7.96l-1.37-1.37c-.4-.4-.92-.59-1.43-.59-.52 0-1.04.2-1.43.59L10.3 9.45l-7.72 7.72c-.78.78-.78 2.05 0 2.83L4 21.41c.39.39.9.59 1.41.59.51 0 1.02-.2 1.41-.59l7.78-7.78 2.81-2.81c.8-.78.8-2.07 0-2.86zM5.41 20L4 18.59l7.72-7.72 1.47 1.35L5.41 20z\"/>\n",
              "  </svg>\n",
              "      </button>\n",
              "      \n",
              "  <style>\n",
              "    .colab-df-container {\n",
              "      display:flex;\n",
              "      flex-wrap:wrap;\n",
              "      gap: 12px;\n",
              "    }\n",
              "\n",
              "    .colab-df-convert {\n",
              "      background-color: #E8F0FE;\n",
              "      border: none;\n",
              "      border-radius: 50%;\n",
              "      cursor: pointer;\n",
              "      display: none;\n",
              "      fill: #1967D2;\n",
              "      height: 32px;\n",
              "      padding: 0 0 0 0;\n",
              "      width: 32px;\n",
              "    }\n",
              "\n",
              "    .colab-df-convert:hover {\n",
              "      background-color: #E2EBFA;\n",
              "      box-shadow: 0px 1px 2px rgba(60, 64, 67, 0.3), 0px 1px 3px 1px rgba(60, 64, 67, 0.15);\n",
              "      fill: #174EA6;\n",
              "    }\n",
              "\n",
              "    [theme=dark] .colab-df-convert {\n",
              "      background-color: #3B4455;\n",
              "      fill: #D2E3FC;\n",
              "    }\n",
              "\n",
              "    [theme=dark] .colab-df-convert:hover {\n",
              "      background-color: #434B5C;\n",
              "      box-shadow: 0px 1px 3px 1px rgba(0, 0, 0, 0.15);\n",
              "      filter: drop-shadow(0px 1px 2px rgba(0, 0, 0, 0.3));\n",
              "      fill: #FFFFFF;\n",
              "    }\n",
              "  </style>\n",
              "\n",
              "      <script>\n",
              "        const buttonEl =\n",
              "          document.querySelector('#df-47d7778a-6589-4ec2-9403-d1015d494a26 button.colab-df-convert');\n",
              "        buttonEl.style.display =\n",
              "          google.colab.kernel.accessAllowed ? 'block' : 'none';\n",
              "\n",
              "        async function convertToInteractive(key) {\n",
              "          const element = document.querySelector('#df-47d7778a-6589-4ec2-9403-d1015d494a26');\n",
              "          const dataTable =\n",
              "            await google.colab.kernel.invokeFunction('convertToInteractive',\n",
              "                                                     [key], {});\n",
              "          if (!dataTable) return;\n",
              "\n",
              "          const docLinkHtml = 'Like what you see? Visit the ' +\n",
              "            '<a target=\"_blank\" href=https://colab.research.google.com/notebooks/data_table.ipynb>data table notebook</a>'\n",
              "            + ' to learn more about interactive tables.';\n",
              "          element.innerHTML = '';\n",
              "          dataTable['output_type'] = 'display_data';\n",
              "          await google.colab.output.renderOutput(dataTable, element);\n",
              "          const docLink = document.createElement('div');\n",
              "          docLink.innerHTML = docLinkHtml;\n",
              "          element.appendChild(docLink);\n",
              "        }\n",
              "      </script>\n",
              "    </div>\n",
              "  </div>\n",
              "  "
            ]
          },
          "metadata": {},
          "execution_count": 5
        }
      ],
      "source": [
        "ratings = pd.read_csv('/ratings_small.csv')\n",
        "ratings"
      ]
    },
    {
      "cell_type": "code",
      "execution_count": 6,
      "id": "44020d4f",
      "metadata": {
        "id": "44020d4f"
      },
      "outputs": [],
      "source": [
        "reader = Reader()\n",
        "dataset= Dataset.load_from_df(ratings[['userId', 'movieId', 'rating']], reader)"
      ]
    },
    {
      "cell_type": "code",
      "execution_count": 7,
      "id": "71196a17",
      "metadata": {
        "colab": {
          "base_uri": "https://localhost:8080/"
        },
        "id": "71196a17",
        "outputId": "c2aed20d-7014-47f4-c221-10773838cf0f"
      },
      "outputs": [
        {
          "output_type": "stream",
          "name": "stdout",
          "text": [
            "Evaluating RMSE, MAE of algorithm SVD on 5 split(s).\n",
            "\n",
            "                  Fold 1  Fold 2  Fold 3  Fold 4  Fold 5  Mean    Std     \n",
            "RMSE (testset)    1.0054  1.0084  0.9964  1.0012  1.0167  1.0056  0.0069  \n",
            "MAE (testset)     0.7751  0.7781  0.7704  0.7740  0.7854  0.7766  0.0051  \n",
            "Fit time          1.34    1.64    1.66    1.30    1.36    1.46    0.16    \n",
            "Test time         0.30    0.24    0.23    0.13    0.14    0.21    0.06    \n"
          ]
        }
      ],
      "source": [
        "pmf = SVD(biased = False)\n",
        "crosvali_pmf = cross_validate(pmf, dataset, measures=['RMSE', 'MAE'], cv=5, verbose=True);"
      ]
    },
    {
      "cell_type": "code",
      "execution_count": 8,
      "id": "8e796209",
      "metadata": {
        "colab": {
          "base_uri": "https://localhost:8080/"
        },
        "id": "8e796209",
        "outputId": "aeda4cd4-ceab-443e-9de8-6c7fda48e1f6"
      },
      "outputs": [
        {
          "output_type": "stream",
          "name": "stdout",
          "text": [
            "Average MAE for PMF Collaborative Filtering:  0.7766161603206758\n",
            "Average RMSE for PMF Collaborative Filtering:  1.0056289632072875\n"
          ]
        }
      ],
      "source": [
        "print('Average MAE for PMF Collaborative Filtering: ', crosvali_pmf['test_mae'].mean())\n",
        "print('Average RMSE for PMF Collaborative Filtering: ', crosvali_pmf['test_rmse'].mean())"
      ]
    },
    {
      "cell_type": "code",
      "execution_count": 9,
      "id": "5a31ff44",
      "metadata": {
        "colab": {
          "base_uri": "https://localhost:8080/"
        },
        "id": "5a31ff44",
        "outputId": "193d7d2b-66b2-46ad-e9ad-fe09b7d2eaef"
      },
      "outputs": [
        {
          "output_type": "stream",
          "name": "stdout",
          "text": [
            "Computing the msd similarity matrix...\n",
            "Done computing similarity matrix.\n",
            "Computing the msd similarity matrix...\n",
            "Done computing similarity matrix.\n",
            "Computing the msd similarity matrix...\n",
            "Done computing similarity matrix.\n",
            "Computing the msd similarity matrix...\n",
            "Done computing similarity matrix.\n",
            "Computing the msd similarity matrix...\n",
            "Done computing similarity matrix.\n",
            "Evaluating RMSE, MAE of algorithm KNNBasic on 5 split(s).\n",
            "\n",
            "                  Fold 1  Fold 2  Fold 3  Fold 4  Fold 5  Mean    Std     \n",
            "RMSE (testset)    0.9630  0.9692  0.9685  0.9666  0.9759  0.9686  0.0042  \n",
            "MAE (testset)     0.7415  0.7475  0.7467  0.7394  0.7481  0.7446  0.0035  \n",
            "Fit time          0.10    0.13    0.13    0.14    0.13    0.13    0.01    \n",
            "Test time         1.62    1.50    1.46    2.69    1.49    1.75    0.47    \n"
          ]
        }
      ],
      "source": [
        "sim_options = {'user_based': True}\n",
        "user_cf = KNNBasic(sim_options=sim_options)\n",
        "crosvali_u = cross_validate(user_cf, dataset, measures=['RMSE', 'MAE'], cv=5, verbose=True);"
      ]
    },
    {
      "cell_type": "code",
      "execution_count": 10,
      "id": "0ec983e0",
      "metadata": {
        "colab": {
          "base_uri": "https://localhost:8080/"
        },
        "id": "0ec983e0",
        "outputId": "33c7dfdf-ec85-4bd1-a232-2966d23c57da"
      },
      "outputs": [
        {
          "output_type": "stream",
          "name": "stdout",
          "text": [
            "Average MAE for User-based Collaborative Filtering:  0.7446316142710018\n",
            "Average RMSE for User-based Collaborative Filtering:  0.9686351357657254\n"
          ]
        }
      ],
      "source": [
        "print('Average MAE for User-based Collaborative Filtering: ', crosvali_u['test_mae'].mean())\n",
        "print('Average RMSE for User-based Collaborative Filtering: ', crosvali_u['test_rmse'].mean())"
      ]
    },
    {
      "cell_type": "code",
      "execution_count": 11,
      "id": "1ce251c0",
      "metadata": {
        "colab": {
          "base_uri": "https://localhost:8080/"
        },
        "id": "1ce251c0",
        "outputId": "65c0ea41-b333-4f4c-8d42-7bb97663006e"
      },
      "outputs": [
        {
          "output_type": "stream",
          "name": "stdout",
          "text": [
            "Computing the msd similarity matrix...\n",
            "Done computing similarity matrix.\n",
            "Computing the msd similarity matrix...\n",
            "Done computing similarity matrix.\n",
            "Computing the msd similarity matrix...\n",
            "Done computing similarity matrix.\n",
            "Computing the msd similarity matrix...\n",
            "Done computing similarity matrix.\n",
            "Computing the msd similarity matrix...\n",
            "Done computing similarity matrix.\n",
            "Evaluating RMSE, MAE of algorithm KNNBasic on 5 split(s).\n",
            "\n",
            "                  Fold 1  Fold 2  Fold 3  Fold 4  Fold 5  Mean    Std     \n",
            "RMSE (testset)    0.9402  0.9294  0.9383  0.9335  0.9344  0.9352  0.0038  \n",
            "MAE (testset)     0.7230  0.7165  0.7242  0.7212  0.7209  0.7212  0.0026  \n",
            "Fit time          3.62    3.47    3.36    3.51    3.89    3.57    0.18    \n",
            "Test time         9.34    7.70    7.08    6.59    6.66    7.47    1.01    \n"
          ]
        }
      ],
      "source": [
        "sim_options = {'user_based': False}\n",
        "item_cf = KNNBasic(sim_options=sim_options)\n",
        "crosvali_i = cross_validate(item_cf, dataset, measures=['RMSE', 'MAE'], cv=5, verbose=True);"
      ]
    },
    {
      "cell_type": "code",
      "execution_count": 12,
      "id": "2fae4e5b",
      "metadata": {
        "colab": {
          "base_uri": "https://localhost:8080/"
        },
        "id": "2fae4e5b",
        "outputId": "c4f0857c-c414-442f-fb2a-c62c00a45026"
      },
      "outputs": [
        {
          "output_type": "stream",
          "name": "stdout",
          "text": [
            "Average MAE for Item-based Collaborative Filtering:  0.7211603530080297\n",
            "Average RMSE for Item-based Collaborative Filtering:  0.9351505264362064\n"
          ]
        }
      ],
      "source": [
        "print('Average MAE for Item-based Collaborative Filtering: ', crosvali_i['test_mae'].mean())\n",
        "print('Average RMSE for Item-based Collaborative Filtering: ', crosvali_i['test_rmse'].mean())"
      ]
    },
    {
      "cell_type": "code",
      "execution_count": 13,
      "id": "9a6b6667",
      "metadata": {
        "colab": {
          "base_uri": "https://localhost:8080/"
        },
        "id": "9a6b6667",
        "outputId": "298831ab-1d97-48e5-a066-db602bfab80c"
      },
      "outputs": [
        {
          "output_type": "stream",
          "name": "stdout",
          "text": [
            "Computing the cosine similarity matrix...\n",
            "Done computing similarity matrix.\n",
            "Computing the cosine similarity matrix...\n",
            "Done computing similarity matrix.\n",
            "Computing the cosine similarity matrix...\n",
            "Done computing similarity matrix.\n",
            "Computing the cosine similarity matrix...\n",
            "Done computing similarity matrix.\n",
            "Computing the cosine similarity matrix...\n",
            "Done computing similarity matrix.\n",
            "Evaluating RMSE, MAE of algorithm KNNBasic on 5 split(s).\n",
            "\n",
            "                  Fold 1  Fold 2  Fold 3  Fold 4  Fold 5  Mean    Std     \n",
            "RMSE (testset)    1.0041  0.9912  0.9948  0.9875  0.9926  0.9940  0.0056  \n",
            "MAE (testset)     0.7773  0.7660  0.7696  0.7644  0.7630  0.7681  0.0051  \n",
            "Fit time          0.16    0.17    0.19    0.19    0.19    0.18    0.01    \n",
            "Test time         1.59    2.48    1.56    1.52    1.61    1.75    0.37    \n"
          ]
        }
      ],
      "source": [
        "sim_options = {'name':'cosine', 'user_based': True}\n",
        "u_cos = KNNBasic(sim_options=sim_options);\n",
        "crosvali_u_cos = cross_validate(u_cos, dataset, measures=['RMSE', 'MAE'], cv=5, verbose=True);"
      ]
    },
    {
      "cell_type": "code",
      "execution_count": 14,
      "id": "bc4f4082",
      "metadata": {
        "colab": {
          "base_uri": "https://localhost:8080/"
        },
        "id": "bc4f4082",
        "outputId": "1caea0e0-3805-45df-b273-676091e8e0ea"
      },
      "outputs": [
        {
          "output_type": "stream",
          "name": "stdout",
          "text": [
            "Computing the msd similarity matrix...\n",
            "Done computing similarity matrix.\n",
            "Computing the msd similarity matrix...\n",
            "Done computing similarity matrix.\n",
            "Computing the msd similarity matrix...\n",
            "Done computing similarity matrix.\n",
            "Computing the msd similarity matrix...\n",
            "Done computing similarity matrix.\n",
            "Computing the msd similarity matrix...\n",
            "Done computing similarity matrix.\n",
            "Evaluating RMSE, MAE of algorithm KNNBasic on 5 split(s).\n",
            "\n",
            "                  Fold 1  Fold 2  Fold 3  Fold 4  Fold 5  Mean    Std     \n",
            "RMSE (testset)    0.9728  0.9635  0.9645  0.9707  0.9694  0.9682  0.0036  \n",
            "MAE (testset)     0.7448  0.7419  0.7420  0.7464  0.7447  0.7440  0.0018  \n",
            "Fit time          0.10    0.13    0.13    0.13    0.13    0.12    0.01    \n",
            "Test time         1.47    2.00    2.56    1.42    1.45    1.78    0.44    \n"
          ]
        }
      ],
      "source": [
        "sim_options = {'name':'msd', 'user_based': True}\n",
        "u_msd = KNNBasic(sim_options=sim_options);\n",
        "crosvali_u_msd = cross_validate(u_msd, dataset, measures=['RMSE', 'MAE'], cv=5, verbose=True);"
      ]
    },
    {
      "cell_type": "code",
      "execution_count": 15,
      "id": "e4784d1f",
      "metadata": {
        "colab": {
          "base_uri": "https://localhost:8080/"
        },
        "id": "e4784d1f",
        "outputId": "92ce0316-cce4-47b0-d478-9b4102f725e7"
      },
      "outputs": [
        {
          "output_type": "stream",
          "name": "stdout",
          "text": [
            "Computing the pearson similarity matrix...\n",
            "Done computing similarity matrix.\n",
            "Computing the pearson similarity matrix...\n",
            "Done computing similarity matrix.\n",
            "Computing the pearson similarity matrix...\n",
            "Done computing similarity matrix.\n",
            "Computing the pearson similarity matrix...\n",
            "Done computing similarity matrix.\n",
            "Computing the pearson similarity matrix...\n",
            "Done computing similarity matrix.\n",
            "Evaluating RMSE, MAE of algorithm KNNBasic on 5 split(s).\n",
            "\n",
            "                  Fold 1  Fold 2  Fold 3  Fold 4  Fold 5  Mean    Std     \n",
            "RMSE (testset)    1.0049  0.9948  0.9963  0.9984  0.9987  0.9986  0.0035  \n",
            "MAE (testset)     0.7734  0.7735  0.7706  0.7726  0.7736  0.7727  0.0011  \n",
            "Fit time          0.21    0.21    0.22    0.23    0.32    0.24    0.04    \n",
            "Test time         1.46    1.60    1.43    2.44    1.40    1.67    0.39    \n"
          ]
        }
      ],
      "source": [
        "sim_options = {'name':'pearson', 'user_based': True}\n",
        "u_pearson = KNNBasic(sim_options=sim_options);\n",
        "crosvali_u_pearson = cross_validate(u_pearson, dataset, measures=['RMSE', 'MAE'], cv=5, verbose=True);"
      ]
    },
    {
      "cell_type": "code",
      "execution_count": 16,
      "id": "f4e213a2",
      "metadata": {
        "colab": {
          "base_uri": "https://localhost:8080/",
          "height": 452
        },
        "id": "f4e213a2",
        "outputId": "8b22a5f2-ead5-448e-f816-e3e9914b528b"
      },
      "outputs": [
        {
          "output_type": "display_data",
          "data": {
            "text/plain": [
              "<Figure size 640x480 with 1 Axes>"
            ],
            "image/png": "[encoded data removed]"
          },
          "metadata": {}
        }
      ],
      "source": [
        "x = [0,1,2]\n",
        "y_mae = [crosvali_u_cos['test_mae'].mean(),crosvali_u_msd['test_mae'].mean(),crosvali_u_pearson['test_mae'].mean()]\n",
        "y_rmse = [crosvali_u_cos['test_rmse'].mean(),crosvali_u_msd['test_rmse'].mean(),crosvali_u_pearson['test_rmse'].mean()]\n",
        "plt.plot(x, y_mae)\n",
        "plt.plot(x, y_rmse)\n",
        "plt.title('User-based Collaborative Filtering(With 5-fold CV)')\n",
        "plt.legend(['MAE','RMSE'])\n",
        "plt.xticks(x,['Cosine','MSD','Pearson'])\n",
        "plt.ylabel('Average')\n",
        "plt.show()"
      ]
    },
    {
      "cell_type": "code",
      "execution_count": 17,
      "id": "99b0c9be",
      "metadata": {
        "colab": {
          "base_uri": "https://localhost:8080/"
        },
        "id": "99b0c9be",
        "outputId": "4f38477e-5cac-42ef-f970-146e24d3d659"
      },
      "outputs": [
        {
          "output_type": "stream",
          "name": "stdout",
          "text": [
            "Computing the cosine similarity matrix...\n",
            "Done computing similarity matrix.\n",
            "Computing the cosine similarity matrix...\n",
            "Done computing similarity matrix.\n",
            "Computing the cosine similarity matrix...\n",
            "Done computing similarity matrix.\n",
            "Computing the cosine similarity matrix...\n",
            "Done computing similarity matrix.\n",
            "Computing the cosine similarity matrix...\n",
            "Done computing similarity matrix.\n",
            "Evaluating RMSE, MAE of algorithm KNNBasic on 5 split(s).\n",
            "\n",
            "                  Fold 1  Fold 2  Fold 3  Fold 4  Fold 5  Mean    Std     \n",
            "RMSE (testset)    0.9944  0.9914  1.0041  0.9893  0.9957  0.9950  0.0051  \n",
            "MAE (testset)     0.7731  0.7710  0.7811  0.7738  0.7737  0.7745  0.0034  \n",
            "Fit time          5.39    5.17    5.40    6.90    5.75    5.72    0.62    \n",
            "Test time         7.53    7.63    11.90   6.54    6.43    8.00    2.01    \n"
          ]
        }
      ],
      "source": [
        "sim_options = {'name':'cosine', 'user_based': False}\n",
        "i_cos = KNNBasic(sim_options=sim_options);\n",
        "crosvali_i_cos = cross_validate(i_cos, dataset, measures=['RMSE', 'MAE'], cv=5, verbose=True);"
      ]
    },
    {
      "cell_type": "code",
      "execution_count": 18,
      "id": "d4a489f4",
      "metadata": {
        "colab": {
          "base_uri": "https://localhost:8080/"
        },
        "id": "d4a489f4",
        "outputId": "746220e3-cf33-4e22-a9d6-34664bf2f79c"
      },
      "outputs": [
        {
          "output_type": "stream",
          "name": "stdout",
          "text": [
            "Computing the msd similarity matrix...\n",
            "Done computing similarity matrix.\n",
            "Computing the msd similarity matrix...\n",
            "Done computing similarity matrix.\n",
            "Computing the msd similarity matrix...\n",
            "Done computing similarity matrix.\n",
            "Computing the msd similarity matrix...\n",
            "Done computing similarity matrix.\n",
            "Computing the msd similarity matrix...\n",
            "Done computing similarity matrix.\n",
            "Evaluating RMSE, MAE of algorithm KNNBasic on 5 split(s).\n",
            "\n",
            "                  Fold 1  Fold 2  Fold 3  Fold 4  Fold 5  Mean    Std     \n",
            "RMSE (testset)    0.9309  0.9431  0.9304  0.9404  0.9348  0.9359  0.0051  \n",
            "MAE (testset)     0.7166  0.7273  0.7184  0.7245  0.7214  0.7216  0.0039  \n",
            "Fit time          3.89    5.29    6.26    4.74    4.53    4.94    0.80    \n",
            "Test time         6.44    7.81    6.81    6.72    6.94    6.95    0.46    \n"
          ]
        }
      ],
      "source": [
        "sim_options = {'name':'msd', 'user_based': False}\n",
        "i_msd = KNNBasic(sim_options=sim_options);\n",
        "crosvali_i_msd = cross_validate(i_msd, dataset, measures=['RMSE', 'MAE'], cv=5, verbose=True);"
      ]
    },
    {
      "cell_type": "code",
      "execution_count": 19,
      "id": "48e89c4d",
      "metadata": {
        "colab": {
          "base_uri": "https://localhost:8080/"
        },
        "id": "48e89c4d",
        "outputId": "2c34da80-485f-4b02-b8a9-4acbf6aa820d"
      },
      "outputs": [
        {
          "output_type": "stream",
          "name": "stdout",
          "text": [
            "Computing the pearson similarity matrix...\n",
            "Done computing similarity matrix.\n",
            "Computing the pearson similarity matrix...\n",
            "Done computing similarity matrix.\n",
            "Computing the pearson similarity matrix...\n",
            "Done computing similarity matrix.\n",
            "Computing the pearson similarity matrix...\n",
            "Done computing similarity matrix.\n",
            "Computing the pearson similarity matrix...\n",
            "Done computing similarity matrix.\n",
            "Evaluating RMSE, MAE of algorithm KNNBasic on 5 split(s).\n",
            "\n",
            "                  Fold 1  Fold 2  Fold 3  Fold 4  Fold 5  Mean    Std     \n",
            "RMSE (testset)    0.9906  0.9844  0.9948  0.9928  0.9825  0.9890  0.0048  \n",
            "MAE (testset)     0.7695  0.7630  0.7726  0.7689  0.7643  0.7676  0.0035  \n",
            "Fit time          10.29   7.80    7.34    7.92    7.90    8.25    1.04    \n",
            "Test time         7.20    7.76    7.59    6.65    7.25    7.29    0.38    \n"
          ]
        }
      ],
      "source": [
        "sim_options = {'name':'pearson', 'user_based': False}\n",
        "i_pearson = KNNBasic(sim_options=sim_options);\n",
        "crosvali_i_pearson = cross_validate(i_pearson, dataset, measures=['RMSE', 'MAE'], cv=5, verbose=True);"
      ]
    },
    {
      "cell_type": "code",
      "execution_count": 20,
      "id": "ed8edce2",
      "metadata": {
        "colab": {
          "base_uri": "https://localhost:8080/",
          "height": 452
        },
        "id": "ed8edce2",
        "outputId": "81e8a4cf-6ba6-4917-efa3-006aed3b68a6"
      },
      "outputs": [
        {
          "output_type": "display_data",
          "data": {
            "text/plain": [
              "<Figure size 640x480 with 1 Axes>"
            ],
            "image/png": "[encoded data removed]"
          },
          "metadata": {}
        }
      ],
      "source": [
        "x = [0,1,2]\n",
        "y_mae = [crosvali_i_cos['test_mae'].mean(),crosvali_i_msd['test_mae'].mean(),crosvali_i_pearson['test_mae'].mean()]\n",
        "y_rmse = [crosvali_i_cos['test_rmse'].mean(),crosvali_i_msd['test_rmse'].mean(),crosvali_i_pearson['test_rmse'].mean()]\n",
        "plt.plot(x, y_mae)\n",
        "plt.plot(x, y_rmse)\n",
        "plt.title('Item-based Collaborative Filtering(With 5-fold CV)')\n",
        "plt.legend(['MAE','RMSE'])\n",
        "plt.xticks(x,['Cosine','MSD','Pearson'])\n",
        "plt.ylabel('Average')\n",
        "plt.show()"
      ]
    },
    {
      "cell_type": "code",
      "execution_count": 21,
      "id": "efaa7e55",
      "metadata": {
        "id": "efaa7e55"
      },
      "outputs": [],
      "source": [
        "trainset, testset = train_test_split(dataset, test_size = 0.25, random_state = 42)"
      ]
    },
    {
      "cell_type": "code",
      "execution_count": 22,
      "id": "06912b7c",
      "metadata": {
        "colab": {
          "base_uri": "https://localhost:8080/"
        },
        "id": "06912b7c",
        "outputId": "861cfbdb-546a-409e-e6df-246b8cf1f8d5"
      },
      "outputs": [
        {
          "output_type": "stream",
          "name": "stdout",
          "text": [
            "Computing the msd similarity matrix...\n",
            "Done computing similarity matrix.\n",
            "MAE:  0.9063\n",
            "RMSE: 1.2110\n",
            "Computing the msd similarity matrix...\n",
            "Done computing similarity matrix.\n",
            "MAE:  0.7878\n",
            "RMSE: 1.0270\n",
            "Computing the msd similarity matrix...\n",
            "Done computing similarity matrix.\n",
            "MAE:  0.7612\n",
            "RMSE: 0.9913\n",
            "Computing the msd similarity matrix...\n",
            "Done computing similarity matrix.\n",
            "MAE:  0.7494\n",
            "RMSE: 0.9772\n",
            "Computing the msd similarity matrix...\n",
            "Done computing similarity matrix.\n",
            "MAE:  0.7451\n",
            "RMSE: 0.9721\n",
            "Computing the msd similarity matrix...\n",
            "Done computing similarity matrix.\n",
            "MAE:  0.7426\n",
            "RMSE: 0.9684\n",
            "Computing the msd similarity matrix...\n",
            "Done computing similarity matrix.\n",
            "MAE:  0.7415\n",
            "RMSE: 0.9665\n",
            "Computing the msd similarity matrix...\n",
            "Done computing similarity matrix.\n",
            "MAE:  0.7420\n",
            "RMSE: 0.9664\n",
            "Computing the msd similarity matrix...\n",
            "Done computing similarity matrix.\n",
            "MAE:  0.7426\n",
            "RMSE: 0.9666\n",
            "Computing the msd similarity matrix...\n",
            "Done computing similarity matrix.\n",
            "MAE:  0.7428\n",
            "RMSE: 0.9665\n",
            "Computing the msd similarity matrix...\n",
            "Done computing similarity matrix.\n",
            "MAE:  0.7431\n",
            "RMSE: 0.9668\n",
            "Computing the msd similarity matrix...\n",
            "Done computing similarity matrix.\n",
            "MAE:  0.7436\n",
            "RMSE: 0.9670\n",
            "Computing the msd similarity matrix...\n",
            "Done computing similarity matrix.\n",
            "MAE:  0.7439\n",
            "RMSE: 0.9675\n",
            "Computing the msd similarity matrix...\n",
            "Done computing similarity matrix.\n",
            "MAE:  0.7449\n",
            "RMSE: 0.9683\n",
            "Computing the msd similarity matrix...\n",
            "Done computing similarity matrix.\n",
            "MAE:  0.7455\n",
            "RMSE: 0.9688\n",
            "Computing the msd similarity matrix...\n",
            "Done computing similarity matrix.\n",
            "MAE:  0.7461\n",
            "RMSE: 0.9694\n",
            "Computing the msd similarity matrix...\n",
            "Done computing similarity matrix.\n",
            "MAE:  0.7467\n",
            "RMSE: 0.9700\n",
            "Computing the msd similarity matrix...\n",
            "Done computing similarity matrix.\n",
            "MAE:  0.7473\n",
            "RMSE: 0.9704\n",
            "Computing the msd similarity matrix...\n",
            "Done computing similarity matrix.\n",
            "MAE:  0.7478\n",
            "RMSE: 0.9709\n",
            "Computing the msd similarity matrix...\n",
            "Done computing similarity matrix.\n",
            "MAE:  0.7482\n",
            "RMSE: 0.9713\n",
            "Computing the msd similarity matrix...\n",
            "Done computing similarity matrix.\n",
            "MAE:  0.7486\n",
            "RMSE: 0.9716\n",
            "Computing the msd similarity matrix...\n",
            "Done computing similarity matrix.\n",
            "MAE:  0.7490\n",
            "RMSE: 0.9719\n",
            "Computing the msd similarity matrix...\n",
            "Done computing similarity matrix.\n",
            "MAE:  0.7494\n",
            "RMSE: 0.9722\n",
            "Computing the msd similarity matrix...\n",
            "Done computing similarity matrix.\n",
            "MAE:  0.7497\n",
            "RMSE: 0.9726\n",
            "Computing the msd similarity matrix...\n",
            "Done computing similarity matrix.\n",
            "MAE:  0.7500\n",
            "RMSE: 0.9729\n"
          ]
        }
      ],
      "source": [
        "ubc_mae = []\n",
        "ubc_rmse = []\n",
        "k1 = list(np.arange(1,50,2))\n",
        "for i in k1:\n",
        "  ubc = KNNBasic(k = i, sim_options = {'user_based' : True})\n",
        "  ubc.fit(trainset)\n",
        "  predict = ubc.test(testset)\n",
        "  ubc_mae.append(accuracy.mae(predict))\n",
        "  ubc_rmse.append(accuracy.rmse(predict))"
      ]
    },
    {
      "cell_type": "code",
      "execution_count": 23,
      "id": "b46cbdda",
      "metadata": {
        "colab": {
          "base_uri": "https://localhost:8080/",
          "height": 472
        },
        "id": "b46cbdda",
        "outputId": "8a170c04-c3ca-4b4e-e2b3-00acf624f445"
      },
      "outputs": [
        {
          "output_type": "display_data",
          "data": {
            "text/plain": [
              "<Figure size 640x480 with 1 Axes>"
            ],
            "image/png": "[encoded data removed]"
          },
          "metadata": {}
        }
      ],
      "source": [
        "plt.plot(k1,ubc_mae)\n",
        "plt.plot(k1,ubc_rmse)\n",
        "plt.xlabel('Number of Neighbors')\n",
        "plt.ylabel('Testset')\n",
        "plt.legend(['MAE','RMSE'])\n",
        "plt.title('User-based Collaborative Filtering')\n",
        "plt.show()"
      ]
    },
    {
      "cell_type": "code",
      "execution_count": 24,
      "id": "b648121a",
      "metadata": {
        "colab": {
          "base_uri": "https://localhost:8080/"
        },
        "id": "b648121a",
        "outputId": "659e29a6-f1a1-41c1-fdc7-308f4de162d5"
      },
      "outputs": [
        {
          "output_type": "stream",
          "name": "stdout",
          "text": [
            "Best Value of K :  8\n",
            "Minimum RMSE :  0.9663589276453397\n"
          ]
        }
      ],
      "source": [
        "k_ubc = ubc_rmse.index(min(ubc_rmse))+1\n",
        "print('Best Value of K : ', k_ubc)\n",
        "print('Minimum RMSE : ', min(ubc_rmse))"
      ]
    },
    {
      "cell_type": "code",
      "execution_count": 25,
      "id": "95fdceeb",
      "metadata": {
        "colab": {
          "base_uri": "https://localhost:8080/"
        },
        "id": "95fdceeb",
        "outputId": "be1459a5-47e2-44ea-ce6b-9e08de6e1524"
      },
      "outputs": [
        {
          "output_type": "stream",
          "name": "stdout",
          "text": [
            "Computing the msd similarity matrix...\n",
            "Done computing similarity matrix.\n",
            "MAE:  0.9703\n",
            "RMSE: 1.3138\n",
            "Computing the msd similarity matrix...\n",
            "Done computing similarity matrix.\n",
            "MAE:  0.8337\n",
            "RMSE: 1.0839\n",
            "Computing the msd similarity matrix...\n",
            "Done computing similarity matrix.\n",
            "MAE:  0.7966\n",
            "RMSE: 1.0277\n",
            "Computing the msd similarity matrix...\n",
            "Done computing similarity matrix.\n",
            "MAE:  0.7765\n",
            "RMSE: 1.0013\n",
            "Computing the msd similarity matrix...\n",
            "Done computing similarity matrix.\n",
            "MAE:  0.7659\n",
            "RMSE: 0.9867\n",
            "Computing the msd similarity matrix...\n",
            "Done computing similarity matrix.\n",
            "MAE:  0.7581\n",
            "RMSE: 0.9768\n",
            "Computing the msd similarity matrix...\n",
            "Done computing similarity matrix.\n",
            "MAE:  0.7515\n",
            "RMSE: 0.9687\n",
            "Computing the msd similarity matrix...\n",
            "Done computing similarity matrix.\n",
            "MAE:  0.7474\n",
            "RMSE: 0.9639\n",
            "Computing the msd similarity matrix...\n",
            "Done computing similarity matrix.\n",
            "MAE:  0.7445\n",
            "RMSE: 0.9602\n",
            "Computing the msd similarity matrix...\n",
            "Done computing similarity matrix.\n",
            "MAE:  0.7419\n",
            "RMSE: 0.9569\n",
            "Computing the msd similarity matrix...\n",
            "Done computing similarity matrix.\n",
            "MAE:  0.7394\n",
            "RMSE: 0.9543\n",
            "Computing the msd similarity matrix...\n",
            "Done computing similarity matrix.\n",
            "MAE:  0.7378\n",
            "RMSE: 0.9526\n",
            "Computing the msd similarity matrix...\n",
            "Done computing similarity matrix.\n",
            "MAE:  0.7361\n",
            "RMSE: 0.9505\n",
            "Computing the msd similarity matrix...\n",
            "Done computing similarity matrix.\n",
            "MAE:  0.7350\n",
            "RMSE: 0.9491\n",
            "Computing the msd similarity matrix...\n",
            "Done computing similarity matrix.\n",
            "MAE:  0.7339\n",
            "RMSE: 0.9477\n",
            "Computing the msd similarity matrix...\n",
            "Done computing similarity matrix.\n",
            "MAE:  0.7333\n",
            "RMSE: 0.9469\n",
            "Computing the msd similarity matrix...\n",
            "Done computing similarity matrix.\n",
            "MAE:  0.7329\n",
            "RMSE: 0.9462\n",
            "Computing the msd similarity matrix...\n",
            "Done computing similarity matrix.\n",
            "MAE:  0.7325\n",
            "RMSE: 0.9457\n",
            "Computing the msd similarity matrix...\n",
            "Done computing similarity matrix.\n",
            "MAE:  0.7317\n",
            "RMSE: 0.9448\n",
            "Computing the msd similarity matrix...\n",
            "Done computing similarity matrix.\n",
            "MAE:  0.7311\n",
            "RMSE: 0.9443\n",
            "Computing the msd similarity matrix...\n",
            "Done computing similarity matrix.\n",
            "MAE:  0.7307\n",
            "RMSE: 0.9437\n",
            "Computing the msd similarity matrix...\n",
            "Done computing similarity matrix.\n",
            "MAE:  0.7302\n",
            "RMSE: 0.9433\n",
            "Computing the msd similarity matrix...\n",
            "Done computing similarity matrix.\n",
            "MAE:  0.7300\n",
            "RMSE: 0.9430\n",
            "Computing the msd similarity matrix...\n",
            "Done computing similarity matrix.\n",
            "MAE:  0.7297\n",
            "RMSE: 0.9427\n",
            "Computing the msd similarity matrix...\n",
            "Done computing similarity matrix.\n",
            "MAE:  0.7296\n",
            "RMSE: 0.9425\n"
          ]
        }
      ],
      "source": [
        "ibc_mae = []\n",
        "ibc_rmse = []\n",
        "for i in k1:\n",
        "  ibc = KNNBasic(k = i, sim_options = {'user_based' : False})\n",
        "  ibc.fit(trainset)\n",
        "  predict = ibc.test(testset)\n",
        "  ibc_mae.append(accuracy.mae(predict))\n",
        "  ibc_rmse.append(accuracy.rmse(predict))"
      ]
    },
    {
      "cell_type": "code",
      "execution_count": 26,
      "id": "e85025c4",
      "metadata": {
        "colab": {
          "base_uri": "https://localhost:8080/",
          "height": 472
        },
        "id": "e85025c4",
        "outputId": "fcd28313-6233-476f-d77e-262f7d47464a"
      },
      "outputs": [
        {
          "output_type": "display_data",
          "data": {
            "text/plain": [
              "<Figure size 640x480 with 1 Axes>"
            ],
            "image/png": "[encoded data removed]"
          },
          "metadata": {}
        }
      ],
      "source": [
        "plt.plot(k1,ibc_mae)\n",
        "plt.plot(k1,ibc_rmse)\n",
        "plt.xlabel('Number of Neighbors')\n",
        "plt.ylabel('Testset')\n",
        "plt.legend(['MAE','RMSE'])\n",
        "plt.title('Item-based Collaborative Filtering')\n",
        "plt.show()"
      ]
    },
    {
      "cell_type": "code",
      "execution_count": 27,
      "id": "5f01d55f",
      "metadata": {
        "colab": {
          "base_uri": "https://localhost:8080/"
        },
        "id": "5f01d55f",
        "outputId": "da8440f4-af8b-456a-e6e0-a5675c730506"
      },
      "outputs": [
        {
          "output_type": "stream",
          "name": "stdout",
          "text": [
            "Best Value of K :  25\n",
            "Minimum RMSE :  0.942461002786997\n"
          ]
        }
      ],
      "source": [
        "k_ibc = ibc_rmse.index(min(ibc_rmse))+1\n",
        "print('Best Value of K : ', k_ibc)\n",
        "print('Minimum RMSE : ', min(ibc_rmse))"
      ]
    }
  ],
  "metadata": {
    "kernelspec": {
      "display_name": "Python 3 (ipykernel)",
      "language": "python",
      "name": "python3"
    },
    "language_info": {
      "codemirror_mode": {
        "name": "ipython",
        "version": 3
      },
      "file_extension": ".py",
      "mimetype": "text/x-python",
      "name": "python",
      "nbconvert_exporter": "python",
      "pygments_lexer": "ipython3",
      "version": "3.9.12"
    },
    "colab": {
      "provenance": [],
      "include_colab_link": true
    }
  },
  "nbformat": 4,
  "nbformat_minor": 5
}