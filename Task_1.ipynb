{
  "nbformat": 4,
  "nbformat_minor": 0,
  "metadata": {
    "colab": {
      "provenance": [],
      "toc_visible": true,
      "authorship_tag": "ABX9TyON2zI27GsFpq86bL3wGf06",
      "include_colab_link": true
    },
    "kernelspec": {
      "name": "python3",
      "display_name": "Python 3"
    },
    "language_info": {
      "name": "python"
    }
  },
  "cells": [
    {
      "cell_type": "markdown",
      "metadata": {
        "id": "view-in-github",
        "colab_type": "text"
      },
      "source": [
        "<a href=\"https://colab.research.google.com/github/rajiv6741/ML_Assignment_1/blob/main/Task_1.ipynb\" target=\"_parent\"><img src=\"https://colab.research.google.com/assets/colab-badge.svg\" alt=\"Open In Colab\"/></a>"
      ]
    },
    {
      "cell_type": "code",
      "execution_count": null,
      "metadata": {
        "id": "DVUvjrmMFgms"
      },
      "outputs": [],
      "source": [
        "import numpy as np\n",
        "import pandas as pd\n",
        "#from sklearn.cluster import KMeans\n",
        "import scipy \n",
        "import sklearn\n",
        "from collections import Counter\n",
        "from sklearn.metrics import multilabel_confusion_matrix\n",
        "from scipy import spatial"
      ]
    },
    {
      "cell_type": "code",
      "source": [
        "dataset = pd.read_csv('/content/data.csv')\n",
        "labels = pd.read_csv('/content/label.csv',names=['label'],header=None)"
      ],
      "metadata": {
        "id": "JBvIRs-uGSaJ"
      },
      "execution_count": null,
      "outputs": []
    },
    {
      "cell_type": "code",
      "source": [
        "dataset.count()"
      ],
      "metadata": {
        "colab": {
          "base_uri": "https://localhost:8080/"
        },
        "id": "K3Oa1im4PD8b",
        "outputId": "221871fe-497b-4d3e-ce8e-3c8f0beae913"
      },
      "execution_count": null,
      "outputs": [
        {
          "output_type": "execute_result",
          "data": {
            "text/plain": [
              "0        9999\n",
              "0.1      9999\n",
              "0.2      9999\n",
              "0.3      9999\n",
              "0.4      9999\n",
              "         ... \n",
              "0.663    9999\n",
              "0.664    9999\n",
              "0.665    9999\n",
              "0.666    9999\n",
              "0.667    9999\n",
              "Length: 784, dtype: int64"
            ]
          },
          "metadata": {},
          "execution_count": 3
        }
      ]
    },
    {
      "cell_type": "code",
      "source": [
        "from sklearn.model_selection import train_test_split\n",
        "train_values, test_values = train_test_split( dataset, test_size=0.08, random_state=50)\n",
        "train_label_val, test_label_val = train_test_split( labels, test_size=0.08, random_state=50)"
      ],
      "metadata": {
        "id": "KUcyHKi_PJuG"
      },
      "execution_count": null,
      "outputs": []
    },
    {
      "cell_type": "code",
      "source": [
        "def calculate_SSE(centroid_value_dict, centroid_dict,data):\n",
        "    sse = 0\n",
        "    for i in centroid_dict:\n",
        "        sse_cluster = 0\n",
        "        for j in centroid_dict[i]:\n",
        "            dp = list(data.iloc[int(j)])\n",
        "            for a,b in zip(centroid_value_dict[i],dp):\n",
        "                sse_cluster += (a-b)**2\n",
        "        sse+=sse_cluster\n",
        "    return sse   \n",
        "    \n",
        "def Initialize_Centroids(data,K):\n",
        "    p = data.shape[0]\n",
        "    centroid_value_dict={}\n",
        "    for i in range(K):\n",
        "        r = np.random.randint(0, p-1)\n",
        "        centroid_value_dict[i] = data.iloc[r]\n",
        "    return centroid_value_dict\n",
        "\n",
        "def jaccard_similarity(centroid, dp):\n",
        "    top = len(list(set(centroid).intersection(dp)))\n",
        "    bottom = (len(set(centroid)) + len(set(dp))) - top\n",
        "    return float(top) / bottom\n",
        "\n",
        "def train_Kmeans(data,K,max_iter=20,mode=1,tol=10):\n",
        "    centroid_value_dict = Initialize_Centroids(data,K)\n",
        "    count = 0\n",
        "    centroid_dict = {}\n",
        "    flag = False\n",
        "    while((count<max_iter) and not flag):\n",
        "            \n",
        "        for i in list(centroid_value_dict.keys()):\n",
        "            centroid_dict[i]=[]\n",
        "        for i in range(data.shape[0]):\n",
        "            x = data.iloc[i]\n",
        "            if mode==1 :\n",
        "                distance_measure = [np.linalg.norm(x-centroid_value_dict[j])  for j in centroid_value_dict]\n",
        "                idx = np.argmin(distance_measure)\n",
        "                centroid_dict[idx].append(i)\n",
        "            elif mode==2 :\n",
        "                distance_measure = [jaccard_similarity(list(x),centroid_value_dict[j]) for j in centroid_value_dict]\n",
        "                idx = np.argmax(distance_measure)\n",
        "                centroid_dict[idx].append(i)\n",
        "            elif mode==3 :\n",
        "                distance_measure = [1-scipy.spatial.distance.cosine(x,list(centroid_value_dict[j]))  for j in centroid_value_dict]\n",
        "                idx = np.argmax(distance_measure)\n",
        "                centroid_dict[idx].append(i)\n",
        "                \n",
        "            prev_centroids=dict(centroid_value_dict)\n",
        "        for i in centroid_dict:\n",
        "            if len(centroid_dict[i]):\n",
        "                dps_centroid = centroid_dict[i]\n",
        "                centroid_value_dict[i] = np.average(data.iloc[dps_centroid],axis=0)\n",
        "        current_tol=-1\n",
        "        for i in centroid_value_dict:\n",
        "            prev_centroid_point = prev_centroids[i]\n",
        "            new_centroid_point = centroid_value_dict[i]\n",
        "            change = np.sum(np.absolute(new_centroid_point-prev_centroid_point))\n",
        "            current_tol = max(change, current_tol)\n",
        "                \n",
        "        print(\"Iteration \",count,\": \",current_tol)\n",
        "            \n",
        "        count+=1\n",
        "        if (current_tol<10):\n",
        "            flag = True\n",
        "            break\n",
        "    return centroid_value_dict,centroid_dict\n"
      ],
      "metadata": {
        "id": "fb6oSabfPJ6m"
      },
      "execution_count": null,
      "outputs": []
    },
    {
      "cell_type": "code",
      "source": [
        "def predict_cluster_labels(C, S, labels):\n",
        "    cluster_labels = np.zeros(10,dtype=int)\n",
        "    for c in C:\n",
        "        labels_of_points = []\n",
        "        for point in S[c]:\n",
        "            labels_of_points.extend(labels.iloc[point])\n",
        "        counter = Counter(labels_of_points)\n",
        "        try:\n",
        "            cluster_labels[c] = max(counter, key=counter.get)\n",
        "        except:\n",
        "            cluster_labels[c] = np.random.randint(0,9)\n",
        "    return cluster_labels"
      ],
      "metadata": {
        "id": "9UDQy-6lPKB1"
      },
      "execution_count": null,
      "outputs": []
    },
    {
      "cell_type": "code",
      "source": [
        "def accuracy(centroids, centroid_Labels, test_data, true_labels, mode=1):\n",
        "    y_true = list(true_labels['label']);\n",
        "    y_pred = []\n",
        "    for index in range(test_data.shape[0]):\n",
        "        featureset = test_data.iloc[index]\n",
        "        if mode==1:\n",
        "            distances = [np.linalg.norm(featureset - centroids[centroid]) for centroid in centroids]\n",
        "            classification = distances.index(min(distances))\n",
        "            y_pred.append(centroid_Labels[classification])\n",
        "        elif mode==2:\n",
        "            similarity = [jaccard_similarity(featureset, centroids[centroid]) for centroid in centroids]\n",
        "            classification = similarity.index(max(similarity))\n",
        "            y_pred.append(centroid_Labels[classification]) \n",
        "        elif mode==3:\n",
        "            similarity = [1 - spatial.distance.cosine(featureset, centroids[centroid]) for centroid in centroids]\n",
        "            classification = similarity.index(max(similarity))\n",
        "            y_pred.append(centroid_Labels[classification])\n",
        "    denominator = test_data.shape[0]\n",
        "    correctly_classified = 0\n",
        "    for i in range(0,len(y_pred)):\n",
        "        if y_true[i] == y_pred[i]:\n",
        "            correctly_classified += 1\n",
        "    accuracy = correctly_classified/denominator\n",
        "    return accuracy"
      ],
      "metadata": {
        "id": "10kXyV9hPKG4"
      },
      "execution_count": null,
      "outputs": []
    },
    {
      "cell_type": "code",
      "source": [
        "centroids1,clusters1 = train_Kmeans(dataset,10, max_iter=100,mode=1)"
      ],
      "metadata": {
        "colab": {
          "base_uri": "https://localhost:8080/"
        },
        "id": "UFiwC7CMPKO8",
        "outputId": "de77c79e-35c0-4b9e-fcd0-80db2484a712"
      },
      "execution_count": null,
      "outputs": [
        {
          "output_type": "stream",
          "name": "stdout",
          "text": [
            "Iteration  0 :  24819.69417475728\n",
            "Iteration  1 :  5042.6196489652075\n",
            "Iteration  2 :  4435.3252231335755\n",
            "Iteration  3 :  2795.6647304933076\n",
            "Iteration  4 :  1825.878066878434\n",
            "Iteration  5 :  1134.803734356789\n",
            "Iteration  6 :  1036.4577159076189\n",
            "Iteration  7 :  767.4419494484011\n",
            "Iteration  8 :  730.4394982527512\n",
            "Iteration  9 :  534.3250304315054\n",
            "Iteration  10 :  423.0901169084555\n",
            "Iteration  11 :  368.29960108141927\n",
            "Iteration  12 :  435.96231945796814\n",
            "Iteration  13 :  361.8884509237397\n",
            "Iteration  14 :  336.01974568763336\n",
            "Iteration  15 :  327.56797382252915\n",
            "Iteration  16 :  291.51808743530216\n",
            "Iteration  17 :  345.40826083146607\n",
            "Iteration  18 :  265.5127219391694\n",
            "Iteration  19 :  299.6316699191525\n",
            "Iteration  20 :  309.5673483003214\n",
            "Iteration  21 :  263.74919594057087\n",
            "Iteration  22 :  260.6074215102372\n",
            "Iteration  23 :  208.10616865614168\n",
            "Iteration  24 :  248.48804346135358\n",
            "Iteration  25 :  228.5518729389941\n",
            "Iteration  26 :  190.52960458407574\n",
            "Iteration  27 :  116.54873158687369\n",
            "Iteration  28 :  120.22415219189415\n",
            "Iteration  29 :  127.23823060270362\n",
            "Iteration  30 :  118.58782614598769\n",
            "Iteration  31 :  74.360245891436\n",
            "Iteration  32 :  64.58736710963466\n",
            "Iteration  33 :  71.82178989139517\n",
            "Iteration  34 :  44.681073503155815\n",
            "Iteration  35 :  59.24191219499784\n",
            "Iteration  36 :  20.508647511352546\n",
            "Iteration  37 :  0.0\n"
          ]
        }
      ]
    },
    {
      "cell_type": "code",
      "source": [
        "Euclidean_SSE =calculate_SSE(centroids1,clusters1,dataset)"
      ],
      "metadata": {
        "id": "pVunp7b2PgM-"
      },
      "execution_count": null,
      "outputs": []
    },
    {
      "cell_type": "code",
      "source": [
        "print(\"Euclidean SSE:\",Euclidean_SSE)"
      ],
      "metadata": {
        "colab": {
          "base_uri": "https://localhost:8080/"
        },
        "id": "UQqB121CPgQ2",
        "outputId": "f0db5023-a79f-4842-c38e-17b81e4d9b4a"
      },
      "execution_count": null,
      "outputs": [
        {
          "output_type": "stream",
          "name": "stdout",
          "text": [
            "Euclidean SSE: 25317253378.89649\n"
          ]
        }
      ]
    },
    {
      "cell_type": "code",
      "source": [
        "cluster_labels_euc = predict_cluster_labels(centroids1,clusters1,labels)\n",
        "cluster_labels_euc"
      ],
      "metadata": {
        "colab": {
          "base_uri": "https://localhost:8080/"
        },
        "id": "ESB5LfwcPgUO",
        "outputId": "7beadf2d-5fb1-4720-983a-3ef8ec4b4d6d"
      },
      "execution_count": null,
      "outputs": [
        {
          "output_type": "execute_result",
          "data": {
            "text/plain": [
              "array([2, 1, 3, 8, 3, 0, 0, 7, 5, 9])"
            ]
          },
          "metadata": {},
          "execution_count": 12
        }
      ]
    },
    {
      "cell_type": "code",
      "source": [
        "Accuracy_Euclidean = accuracy(centroids1, cluster_labels_euc,test_values,test_label_val)\n",
        "Accuracy_Euclidean"
      ],
      "metadata": {
        "colab": {
          "base_uri": "https://localhost:8080/"
        },
        "id": "7jopXILaPgXh",
        "outputId": "3ae5f195-9b73-4d9f-e90a-d1d052691b16"
      },
      "execution_count": null,
      "outputs": [
        {
          "output_type": "execute_result",
          "data": {
            "text/plain": [
              "0.10875"
            ]
          },
          "metadata": {},
          "execution_count": 13
        }
      ]
    },
    {
      "cell_type": "code",
      "source": [
        "centroids2,clusters2 =train_Kmeans(dataset,10, max_iter=100,mode=2)"
      ],
      "metadata": {
        "colab": {
          "base_uri": "https://localhost:8080/"
        },
        "id": "VqyTGwYiPs5N",
        "outputId": "f3f26ad9-96ec-4df2-efc0-c928e1a10bd7"
      },
      "execution_count": null,
      "outputs": [
        {
          "output_type": "stream",
          "name": "stdout",
          "text": [
            "Iteration  0 :  34547.07046979866\n",
            "Iteration  1 :  17205.099066069357\n",
            "Iteration  2 :  2713.931123447135\n",
            "Iteration  3 :  4528.676502277556\n",
            "Iteration  4 :  1771.817653519338\n",
            "Iteration  5 :  1408.4203388080743\n",
            "Iteration  6 :  1346.8869083588856\n",
            "Iteration  7 :  1118.809631697482\n",
            "Iteration  8 :  1351.1196324558564\n",
            "Iteration  9 :  1033.4210197507416\n",
            "Iteration  10 :  876.4440942718757\n",
            "Iteration  11 :  359.42736231033916\n",
            "Iteration  12 :  209.90812802793226\n",
            "Iteration  13 :  0.0\n"
          ]
        }
      ]
    },
    {
      "cell_type": "code",
      "source": [
        "Jaccard_SSE =calculate_SSE(centroids2,clusters2,dataset)"
      ],
      "metadata": {
        "id": "x05AyGarPs8D"
      },
      "execution_count": null,
      "outputs": []
    },
    {
      "cell_type": "code",
      "source": [
        "print(\"Jacard SSE:\",Jaccard_SSE)"
      ],
      "metadata": {
        "colab": {
          "base_uri": "https://localhost:8080/"
        },
        "id": "Gb9xgQEFPs-v",
        "outputId": "7ca5acde-77fa-4464-9f62-2d0983022460"
      },
      "execution_count": null,
      "outputs": [
        {
          "output_type": "stream",
          "name": "stdout",
          "text": [
            "Jacard SSE: 34361687572.938736\n"
          ]
        }
      ]
    },
    {
      "cell_type": "code",
      "source": [
        "cluster_labels_jac = predict_cluster_labels(centroids2,clusters2,labels)\n",
        "cluster_labels_jac"
      ],
      "metadata": {
        "colab": {
          "base_uri": "https://localhost:8080/"
        },
        "id": "aLMmj4YSPtBs",
        "outputId": "17e42db1-4b77-43a4-80ef-44335695d3ed"
      },
      "execution_count": null,
      "outputs": [
        {
          "output_type": "execute_result",
          "data": {
            "text/plain": [
              "array([1, 5, 7, 5, 8, 2, 1, 8, 3, 0])"
            ]
          },
          "metadata": {},
          "execution_count": 17
        }
      ]
    },
    {
      "cell_type": "code",
      "source": [
        "Accuracy_Jaccard = accuracy(centroids2, cluster_labels_jac,test_values,test_label_val,mode=2)\n",
        "Accuracy_Jaccard"
      ],
      "metadata": {
        "colab": {
          "base_uri": "https://localhost:8080/"
        },
        "id": "QTrS0sBfP8DD",
        "outputId": "c56973e9-c8f5-4780-b383-432900a601bc"
      },
      "execution_count": null,
      "outputs": [
        {
          "output_type": "execute_result",
          "data": {
            "text/plain": [
              "0.1025"
            ]
          },
          "metadata": {},
          "execution_count": 18
        }
      ]
    },
    {
      "cell_type": "code",
      "source": [
        "centroids3,clusters3 =train_Kmeans(dataset,10, max_iter = 100,mode=3)"
      ],
      "metadata": {
        "colab": {
          "base_uri": "https://localhost:8080/"
        },
        "id": "2O9mFiojP8GV",
        "outputId": "0b1ad07c-e700-4717-a667-8816d706408e"
      },
      "execution_count": null,
      "outputs": [
        {
          "output_type": "stream",
          "name": "stdout",
          "text": [
            "Iteration  0 :  25820.127118644064\n",
            "Iteration  1 :  5629.405815288495\n",
            "Iteration  2 :  3100.007275006777\n",
            "Iteration  3 :  2331.8985219589485\n",
            "Iteration  4 :  2153.2079095376234\n",
            "Iteration  5 :  1975.4967265560667\n",
            "Iteration  6 :  1506.959388763212\n",
            "Iteration  7 :  1149.2052386995026\n",
            "Iteration  8 :  783.1159990102003\n",
            "Iteration  9 :  591.8013832816669\n",
            "Iteration  10 :  633.8797392824565\n",
            "Iteration  11 :  683.1853800900817\n",
            "Iteration  12 :  725.4778931887122\n",
            "Iteration  13 :  631.4091969192161\n",
            "Iteration  14 :  452.2210315952897\n",
            "Iteration  15 :  355.48096166513835\n",
            "Iteration  16 :  305.2193407110684\n",
            "Iteration  17 :  285.7553962290097\n",
            "Iteration  18 :  251.00086768822626\n",
            "Iteration  19 :  252.90339615899234\n",
            "Iteration  20 :  326.98025076607325\n",
            "Iteration  21 :  431.103678469832\n",
            "Iteration  22 :  308.4124965798195\n",
            "Iteration  23 :  316.71552152802144\n",
            "Iteration  24 :  277.3828569306512\n",
            "Iteration  25 :  192.66634137525963\n",
            "Iteration  26 :  203.92832587708966\n",
            "Iteration  27 :  137.18323383084564\n",
            "Iteration  28 :  188.54376870705164\n",
            "Iteration  29 :  213.5657520896554\n",
            "Iteration  30 :  256.4411302006097\n",
            "Iteration  31 :  199.71135135135154\n",
            "Iteration  32 :  259.1958292846129\n",
            "Iteration  33 :  354.2100967644565\n",
            "Iteration  34 :  291.24549275577317\n",
            "Iteration  35 :  273.1194184839045\n",
            "Iteration  36 :  201.70301142263756\n",
            "Iteration  37 :  188.10647319089205\n",
            "Iteration  38 :  215.4192249831484\n",
            "Iteration  39 :  225.18664389917964\n",
            "Iteration  40 :  141.9795371810397\n",
            "Iteration  41 :  182.1036566240832\n",
            "Iteration  42 :  193.79781703021257\n",
            "Iteration  43 :  180.7639941176979\n",
            "Iteration  44 :  164.58042420078644\n",
            "Iteration  45 :  185.6995841470644\n",
            "Iteration  46 :  162.53374870197314\n",
            "Iteration  47 :  125.13159947087895\n",
            "Iteration  48 :  140.81479786356715\n",
            "Iteration  49 :  85.34946743453992\n",
            "Iteration  50 :  98.48187243010207\n",
            "Iteration  51 :  97.00558056381\n",
            "Iteration  52 :  103.94117647058839\n",
            "Iteration  53 :  113.31399814931234\n",
            "Iteration  54 :  145.35711053186208\n",
            "Iteration  55 :  99.81789473684225\n",
            "Iteration  56 :  102.80526315789459\n",
            "Iteration  57 :  123.44850356824274\n",
            "Iteration  58 :  110.87486025964662\n",
            "Iteration  59 :  127.46224768139648\n",
            "Iteration  60 :  170.3898023446895\n",
            "Iteration  61 :  193.01209364045724\n",
            "Iteration  62 :  204.2926565874729\n",
            "Iteration  63 :  171.9787546637964\n",
            "Iteration  64 :  176.98479913137913\n",
            "Iteration  65 :  182.25532048123858\n",
            "Iteration  66 :  205.0527211815717\n",
            "Iteration  67 :  129.08552892317806\n",
            "Iteration  68 :  91.16365182567148\n",
            "Iteration  69 :  130.47596199180373\n",
            "Iteration  70 :  74.99951575838156\n",
            "Iteration  71 :  71.0901830935737\n",
            "Iteration  72 :  45.60029415716541\n",
            "Iteration  73 :  27.936787132616402\n",
            "Iteration  74 :  27.33752714206114\n",
            "Iteration  75 :  31.60574363956781\n",
            "Iteration  76 :  28.772579341624333\n",
            "Iteration  77 :  0.0\n"
          ]
        }
      ]
    },
    {
      "cell_type": "code",
      "source": [
        "Cosine_SSE = calculate_SSE(centroids3,clusters3,dataset)"
      ],
      "metadata": {
        "id": "J2Y7l1cjP8Ix"
      },
      "execution_count": null,
      "outputs": []
    },
    {
      "cell_type": "code",
      "source": [
        "cluster_labels_cos = predict_cluster_labels(centroids3,clusters3,labels)\n",
        "cluster_labels_cos"
      ],
      "metadata": {
        "colab": {
          "base_uri": "https://localhost:8080/"
        },
        "id": "d21aJrFeQE3T",
        "outputId": "160aa918-8668-4350-9172-ba41c7b06b77"
      },
      "execution_count": null,
      "outputs": [
        {
          "output_type": "execute_result",
          "data": {
            "text/plain": [
              "array([3, 5, 9, 3, 1, 0, 4, 8, 2, 7])"
            ]
          },
          "metadata": {},
          "execution_count": 21
        }
      ]
    },
    {
      "cell_type": "code",
      "source": [
        "Accuracy_Cosine = accuracy(centroids3, cluster_labels_cos,test_values,test_label_val,mode=3)"
      ],
      "metadata": {
        "id": "kI4h2b2SQE5_"
      },
      "execution_count": null,
      "outputs": []
    },
    {
      "cell_type": "code",
      "source": [
        "print(\"Euclidean accuracy:\",Accuracy_Euclidean)\n",
        "print(\"Jacard accuracy:\",Accuracy_Jaccard)\n",
        "print(\"Cosine accuracy :\",Accuracy_Cosine)"
      ],
      "metadata": {
        "colab": {
          "base_uri": "https://localhost:8080/"
        },
        "id": "q8SYtKm_QE8k",
        "outputId": "63392506-c191-460b-a148-c297c9ed988e"
      },
      "execution_count": null,
      "outputs": [
        {
          "output_type": "stream",
          "name": "stdout",
          "text": [
            "Euclidean accuracy: 0.10875\n",
            "Jacard accuracy: 0.1025\n",
            "Cosine accuracy : 0.10375\n"
          ]
        }
      ]
    },
    {
      "cell_type": "code",
      "source": [
        "print(\"Euclidean SSE:\",Euclidean_SSE)\n",
        "print(\"Jacard SSE:\",Jaccard_SSE)\n",
        "print(\"Cosine SSE :\",Cosine_SSE)"
      ],
      "metadata": {
        "colab": {
          "base_uri": "https://localhost:8080/"
        },
        "id": "jpZ_f74YQE_R",
        "outputId": "e6dd4236-0022-4c61-c65b-90cdd947e544"
      },
      "execution_count": null,
      "outputs": [
        {
          "output_type": "stream",
          "name": "stdout",
          "text": [
            "Euclidean SSE: 25317253378.89649\n",
            "Jacard SSE: 34361687572.938736\n",
            "Cosine SSE : 25570031972.50617\n"
          ]
        }
      ]
    }
  ]
}