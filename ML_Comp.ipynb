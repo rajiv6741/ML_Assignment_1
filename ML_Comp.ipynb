{
  "metadata": {
    "kernelspec": {
      "language": "python",
      "display_name": "Python 3",
      "name": "python3"
    },
    "language_info": {
      "name": "python",
      "version": "3.7.12",
      "mimetype": "text/x-python",
      "codemirror_mode": {
        "name": "ipython",
        "version": 3
      },
      "pygments_lexer": "ipython3",
      "nbconvert_exporter": "python",
      "file_extension": ".py"
    },
    "colab": {
      "provenance": [],
      "include_colab_link": true
    }
  },
  "nbformat_minor": 0,
  "nbformat": 4,
  "cells": [
    {
      "cell_type": "markdown",
      "metadata": {
        "id": "view-in-github",
        "colab_type": "text"
      },
      "source": [
        "<a href=\"https://colab.research.google.com/github/rajiv6741/ML_Assignment_1/blob/main/ML_Comp.ipynb\" target=\"_parent\"><img src=\"https://colab.research.google.com/assets/colab-badge.svg\" alt=\"Open In Colab\"/></a>"
      ]
    },
    {
      "cell_type": "code",
      "source": [
        "import numpy as np\n",
        "import matplotlib.pyplot as plt\n",
        "import pandas as pd\n",
        "from tqdm.auto import tqdm\n",
        "from sklearn import *\n",
        "import glob\n",
        "p = '/kaggle/input/tlvmc-parkinsons-freezing-gait-prediction/'\n",
        "traindata = glob.glob(p+'traindata/**/**')\n",
        "testdata = glob.glob(p+'testdata/**/**')\n",
        "subjects = pd.read_csv(p+'subjects.csv')\n",
        "task = pd.read_csv(p+'tasks.csv')\n",
        "samsub = pd.read_csv(p+'sample_submission.csv')\n",
        "tdcsfog_metadata=pd.read_csv('/kaggle/input/tlvmc-parkinsons-freezing-gait-prediction/tdcsfog_metadata.csv')\n",
        "defog_metadata=pd.read_csv('/kaggle/input/tlvmc-parkinsons-freezing-gait-prediction/defog_metadata.csv')\n",
        "tdcsfog_metadata['Module']='tdcsfog'\n",
        "defog_metadata['Module']='defog'\n",
        "metadata=pd.concat([tdcsfog_metadata,defog_metadata])"
      ],
      "metadata": {
        "execution": {
          "iopub.status.busy": "2023-04-16T17:22:31.264560Z",
          "iopub.execute_input": "2023-04-16T17:22:31.265003Z",
          "iopub.status.idle": "2023-04-16T17:22:33.754559Z",
          "shell.execute_reply.started": "2023-04-16T17:22:31.264959Z",
          "shell.execute_reply": "2023-04-16T17:22:33.753387Z"
        },
        "trusted": true,
        "id": "aBFl8GFBI74K"
      },
      "execution_count": null,
      "outputs": []
    },
    {
      "cell_type": "code",
      "source": [
        "!pip install tsflex --no-index --find-links=file:///kaggle/input/time-series-tools\n",
        "!pip install seglearn --no-index --find-links=file:///kaggle/input/time-series-tools"
      ],
      "metadata": {
        "execution": {
          "iopub.status.busy": "2023-04-16T17:22:33.758822Z",
          "iopub.execute_input": "2023-04-16T17:22:33.759727Z",
          "iopub.status.idle": "2023-04-16T17:22:59.041443Z",
          "shell.execute_reply.started": "2023-04-16T17:22:33.759682Z",
          "shell.execute_reply": "2023-04-16T17:22:59.039704Z"
        },
        "trusted": true,
        "id": "RF3bWf_mI74M",
        "outputId": "344eed6e-d229-432d-9dcd-925e8837a688"
      },
      "execution_count": null,
      "outputs": [
        {
          "name": "stdout",
          "text": "Looking in links: file:///kaggle/input/time-series-tools\nProcessing /kaggle/input/time-series-tools/tsflex-0.3.0-py3-none-any.whl\nRequirement already satisfied: pandas<2.0.0,>=1.3.5 in /opt/conda/lib/python3.7/site-packages (from tsflex) (1.3.5)\nRequirement already satisfied: dill<0.4.0,>=0.3.4 in /opt/conda/lib/python3.7/site-packages (from tsflex) (0.3.6)\nRequirement already satisfied: multiprocess<0.71.0,>=0.70.12 in /opt/conda/lib/python3.7/site-packages (from tsflex) (0.70.14)\nRequirement already satisfied: numpy<2.0.0,>=1.21.5 in /opt/conda/lib/python3.7/site-packages (from tsflex) (1.21.6)\nRequirement already satisfied: tqdm<5.0.0,>=4.62.3 in /opt/conda/lib/python3.7/site-packages (from tsflex) (4.64.1)\nRequirement already satisfied: pytz>=2017.3 in /opt/conda/lib/python3.7/site-packages (from pandas<2.0.0,>=1.3.5->tsflex) (2022.7.1)\nRequirement already satisfied: python-dateutil>=2.7.3 in /opt/conda/lib/python3.7/site-packages (from pandas<2.0.0,>=1.3.5->tsflex) (2.8.2)\nRequirement already satisfied: six>=1.5 in /opt/conda/lib/python3.7/site-packages (from python-dateutil>=2.7.3->pandas<2.0.0,>=1.3.5->tsflex) (1.16.0)\nInstalling collected packages: tsflex\nSuccessfully installed tsflex-0.3.0\n\u001b[33mWARNING: Running pip as the 'root' user can result in broken permissions and conflicting behaviour with the system package manager. It is recommended to use a virtual environment instead: https://pip.pypa.io/warnings/venv\u001b[0m\u001b[33m\n\u001b[0mLooking in links: file:///kaggle/input/time-series-tools\nProcessing /kaggle/input/time-series-tools/seglearn-1.2.5-py3-none-any.whl\nRequirement already satisfied: numpy in /opt/conda/lib/python3.7/site-packages (from seglearn) (1.21.6)\nRequirement already satisfied: scikit-learn>=0.21.3 in /opt/conda/lib/python3.7/site-packages (from seglearn) (1.0.2)\nRequirement already satisfied: scipy in /opt/conda/lib/python3.7/site-packages (from seglearn) (1.7.3)\nRequirement already satisfied: threadpoolctl>=2.0.0 in /opt/conda/lib/python3.7/site-packages (from scikit-learn>=0.21.3->seglearn) (3.1.0)\nRequirement already satisfied: joblib>=0.11 in /opt/conda/lib/python3.7/site-packages (from scikit-learn>=0.21.3->seglearn) (1.2.0)\nInstalling collected packages: seglearn\nSuccessfully installed seglearn-1.2.5\n\u001b[33mWARNING: Running pip as the 'root' user can result in broken permissions and conflicting behaviour with the system package manager. It is recommended to use a virtual environment instead: https://pip.pypa.io/warnings/venv\u001b[0m\u001b[33m\n\u001b[0m",
          "output_type": "stream"
        }
      ]
    },
    {
      "cell_type": "code",
      "source": [
        "task['Duration'] = task['End'] - task['Begin']\n",
        "task = pd.pivot_table(task, values=['Duration'], index=['Id'], columns=['Task'], aggfunc='sum', fill_value=0)\n",
        "task.columns = [c[-1] for c in task.columns]\n",
        "task = task.reset_index()\n",
        "task['t_kmeans'] = cluster.KMeans(n_clusters=10, random_state=3).fit_predict(task[task.columns[1:]])\n",
        "subjects = subjects.fillna(0).groupby('Subject').median()\n",
        "subjects = subjects.reset_index()\n",
        "subjects['s_kmeans'] = cluster.KMeans(n_clusters=10, random_state=3).fit_predict(subjects[subjects.columns[1:]])\n",
        "subjects=subjects.rename(columns={'Visit':'s_Visit','Age':'s_Age','YearsSinceDx':'s_YearsSinceDx','UPDRSIII_On':'s_UPDRSIII_On','UPDRSIII_Off':'s_UPDRSIII_Off','NFOGQ':'s_NFOGQ'})\n"
      ],
      "metadata": {
        "execution": {
          "iopub.status.busy": "2023-04-16T17:22:59.043504Z",
          "iopub.execute_input": "2023-04-16T17:22:59.044024Z",
          "iopub.status.idle": "2023-04-16T17:22:59.189264Z",
          "shell.execute_reply.started": "2023-04-16T17:22:59.043964Z",
          "shell.execute_reply": "2023-04-16T17:22:59.188204Z"
        },
        "trusted": true,
        "id": "60-mHhdVI74M"
      },
      "execution_count": null,
      "outputs": []
    },
    {
      "cell_type": "code",
      "source": [
        "complex_featlist=['Visit','Test','Medication','s_Visit','s_Age','s_YearsSinceDx','s_UPDRSIII_On','s_UPDRSIII_Off','s_NFOGQ','s_kmeans']\n",
        "metadata_complex=metadata.merge(subjects,how='left',on='Subject').copy()\n",
        "metadata_complex['Medication']=metadata_complex['Medication'].factorize()[0]"
      ],
      "metadata": {
        "execution": {
          "iopub.status.busy": "2023-04-16T17:22:59.192428Z",
          "iopub.execute_input": "2023-04-16T17:22:59.193904Z",
          "iopub.status.idle": "2023-04-16T17:22:59.211095Z",
          "shell.execute_reply.started": "2023-04-16T17:22:59.193841Z",
          "shell.execute_reply": "2023-04-16T17:22:59.209579Z"
        },
        "trusted": true,
        "id": "Ql0eA0QYI74N"
      },
      "execution_count": null,
      "outputs": []
    },
    {
      "cell_type": "code",
      "source": [
        "from seglearn.feature_functions import base_features, emg_features\n",
        "from tsflex.features import FeatureCollection, MultipleFeatureDescriptors\n",
        "from tsflex.features.integrations import seglearn_feature_dict_wrapper\n",
        "basic_feats = MultipleFeatureDescriptors(\n",
        "    functions=seglearn_feature_dict_wrapper(base_features()),\n",
        "    series_names=['AccV', 'AccML', 'AccAP'],\n",
        "    windows=[5_000],\n",
        "    strides=[5_000],\n",
        ")\n",
        "emg_feats = emg_features()\n",
        "del emg_feats['simple square integral']\n",
        "\n",
        "emg_feats = MultipleFeatureDescriptors(\n",
        "    functions=seglearn_feature_dict_wrapper(emg_feats),\n",
        "    series_names=['AccV', 'AccML', 'AccAP'],\n",
        "    windows=[5_000],\n",
        "    strides=[5_000],\n",
        ")\n",
        "fc = FeatureCollection([basic_feats, emg_feats])"
      ],
      "metadata": {
        "execution": {
          "iopub.status.busy": "2023-04-16T17:22:59.212800Z",
          "iopub.execute_input": "2023-04-16T17:22:59.213268Z",
          "iopub.status.idle": "2023-04-16T17:22:59.268179Z",
          "shell.execute_reply.started": "2023-04-16T17:22:59.213227Z",
          "shell.execute_reply": "2023-04-16T17:22:59.267162Z"
        },
        "trusted": true,
        "id": "Y27Iv9-9I74N"
      },
      "execution_count": null,
      "outputs": []
    },
    {
      "cell_type": "code",
      "source": [
        "import pathlib\n",
        "def reader(f):\n",
        "    try:\n",
        "        df = pd.read_csv(f, index_col=\"Time\", usecols=['Time', 'AccV', 'AccML', 'AccAP', 'StartHesitation', 'Turn' , 'Walking'])\n",
        "        \n",
        "        df['Id'] = f.split('/')[-1].split('.')[0]\n",
        "        df['Module'] = pathlib.Path(f).parts[-2]\n",
        "        \n",
        "        df['Time_frac']=(df.index/df.index.max()).values\n",
        "        \n",
        "        df = pd.merge(df, task[['Id','t_kmeans']], how='left', on='Id').fillna(-1)\n",
        "        df = pd.merge(df, metadata_complex[['Id','Subject']+['Visit','Test','Medication','s_kmeans']], how='left', on='Id').fillna(-1)\n",
        "        df_feats = fc.calculate(df, return_df=True, include_final_window=True, approve_sparsity=True, window_idx=\"begin\").astype(np.float32)\n",
        "        df = df.merge(df_feats, how=\"left\", left_index=True, right_index=True)\n",
        "        df.fillna(method=\"ffill\", inplace=True)\n",
        "        return df\n",
        "    except: pass\n",
        "traindata = pd.concat([reader(f) for f in tqdm(traindata)]).fillna(0); print(traindata.shape)\n",
        "cols = [c for c in traindata.columns if c not in ['Id','Subject','Module', 'Time', 'StartHesitation', 'Turn' , 'Walking', 'Valid', 'Task','Event']]\n",
        "pcols = ['StartHesitation', 'Turn' , 'Walking']\n",
        "scols = ['Id', 'StartHesitation', 'Turn' , 'Walking']\n"
      ],
      "metadata": {
        "execution": {
          "iopub.status.busy": "2023-04-16T17:22:59.271830Z",
          "iopub.execute_input": "2023-04-16T17:22:59.273211Z",
          "iopub.status.idle": "2023-04-16T17:31:21.270999Z",
          "shell.execute_reply.started": "2023-04-16T17:22:59.273162Z",
          "shell.execute_reply": "2023-04-16T17:31:21.268369Z"
        },
        "trusted": true,
        "id": "StyAmbi2I74N",
        "outputId": "97ad8e38-eb57-4035-e5d1-0bdf475d793c",
        "colab": {
          "referenced_widgets": [
            "20772bc9d3da487ba4a74cc503e93a7e"
          ]
        }
      },
      "execution_count": null,
      "outputs": [
        {
          "output_type": "display_data",
          "data": {
            "text/plain": "  0%|          | 0/970 [00:00<?, ?it/s]",
            "application/vnd.jupyter.widget-view+json": {
              "version_major": 2,
              "version_minor": 0,
              "model_id": "20772bc9d3da487ba4a74cc503e93a7e"
            }
          },
          "metadata": {}
        },
        {
          "name": "stdout",
          "text": "(20301022, 72)\n",
          "output_type": "stream"
        }
      ]
    },
    {
      "cell_type": "code",
      "source": [
        "traindata=traindata.reset_index(drop=True)"
      ],
      "metadata": {
        "execution": {
          "iopub.status.busy": "2023-04-16T17:31:21.273648Z",
          "iopub.execute_input": "2023-04-16T17:31:21.274235Z",
          "iopub.status.idle": "2023-04-16T17:31:28.655239Z",
          "shell.execute_reply.started": "2023-04-16T17:31:21.274171Z",
          "shell.execute_reply": "2023-04-16T17:31:28.654114Z"
        },
        "trusted": true,
        "id": "eS5-UE_6I74O"
      },
      "execution_count": null,
      "outputs": []
    },
    {
      "cell_type": "code",
      "source": [
        "fig,ax=plt.subplots(3,1,figsize=(20,10))\n",
        "traindata.loc[traindata['StartHesitation']==1,'Time_frac'].hist(ax=ax[0],bins=100)\n",
        "traindata.loc[traindata['Turn']==1,'Time_frac'].hist(ax=ax[1],bins=100)\n",
        "traindata.loc[traindata['Walking']==1,'Time_frac'].hist(ax=ax[2],bins=100)"
      ],
      "metadata": {
        "execution": {
          "iopub.status.busy": "2023-04-16T17:31:28.657027Z",
          "iopub.execute_input": "2023-04-16T17:31:28.657480Z",
          "iopub.status.idle": "2023-04-16T17:31:30.184126Z",
          "shell.execute_reply.started": "2023-04-16T17:31:28.657443Z",
          "shell.execute_reply": "2023-04-16T17:31:30.182763Z"
        },
        "trusted": true,
        "id": "0lEUO7TiI74O",
        "outputId": "68c62903-e9ba-4378-f759-1e178e8c8b35"
      },
      "execution_count": null,
      "outputs": [
        {
          "execution_count": 8,
          "output_type": "execute_result",
          "data": {
            "text/plain": "<AxesSubplot:>"
          },
          "metadata": {}
        },
        {
          "output_type": "display_data",
          "data": {
            "text/plain": "<Figure size 2000x1000 with 3 Axes>",
            "image/png": "[encoded data removed]"
          },
          "metadata": {}
        }
      ]
    },
    {
      "cell_type": "code",
      "source": [
        "import xgboost as xgb\n",
        "import lightgbm as lgb\n",
        "from sklearn.multioutput import MultiOutputRegressor\n",
        "from sklearn.metrics import mean_squared_error, r2_score"
      ],
      "metadata": {
        "execution": {
          "iopub.status.busy": "2023-04-16T17:31:30.185754Z",
          "iopub.execute_input": "2023-04-16T17:31:30.186156Z",
          "iopub.status.idle": "2023-04-16T17:31:31.665725Z",
          "shell.execute_reply.started": "2023-04-16T17:31:30.186120Z",
          "shell.execute_reply": "2023-04-16T17:31:31.664781Z"
        },
        "trusted": true,
        "id": "UYfWJRPGI74O",
        "outputId": "4f76de59-ccf3-42f8-ff5d-b39f8d61aea1"
      },
      "execution_count": null,
      "outputs": [
        {
          "output_type": "display_data",
          "data": {
            "text/plain": "<IPython.core.display.HTML object>",
            "text/html": "<style type='text/css'>\n.datatable table.frame { margin-bottom: 0; }\n.datatable table.frame thead { border-bottom: none; }\n.datatable table.frame tr.coltypes td {  color: #FFFFFF;  line-height: 6px;  padding: 0 0.5em;}\n.datatable .bool    { background: #DDDD99; }\n.datatable .object  { background: #565656; }\n.datatable .int     { background: #5D9E5D; }\n.datatable .float   { background: #4040CC; }\n.datatable .str     { background: #CC4040; }\n.datatable .time    { background: #40CC40; }\n.datatable .row_index {  background: var(--jp-border-color3);  border-right: 1px solid var(--jp-border-color0);  color: var(--jp-ui-font-color3);  font-size: 9px;}\n.datatable .frame tbody td { text-align: left; }\n.datatable .frame tr.coltypes .row_index {  background: var(--jp-border-color0);}\n.datatable th:nth-child(2) { padding-left: 12px; }\n.datatable .hellipsis {  color: var(--jp-cell-editor-border-color);}\n.datatable .vellipsis {  background: var(--jp-layout-color0);  color: var(--jp-cell-editor-border-color);}\n.datatable .na {  color: var(--jp-cell-editor-border-color);  font-size: 80%;}\n.datatable .sp {  opacity: 0.25;}\n.datatable .footer { font-size: 9px; }\n.datatable .frame_dimensions {  background: var(--jp-border-color3);  border-top: 1px solid var(--jp-border-color0);  color: var(--jp-ui-font-color3);  display: inline-block;  opacity: 0.6;  padding: 1px 10px 1px 5px;}\n</style>\n"
          },
          "metadata": {}
        }
      ]
    },
    {
      "cell_type": "code",
      "source": [
        "import numpy as np\n",
        "import xgboost as xgb\n",
        "from sklearn.model_selection import RandomizedSearchCV, traindata_testdata_split\n",
        "from scipy.stats import uniform, randint\n",
        "from sklearn.metrics import average_precision_score, make_scorer\n",
        "best_params_ = {'estimator__colsample_bytree': 0.548271486, \n",
        " 'estimator__learning_rate': 0.24789968, \n",
        " 'estimator__max_depth': 8, \n",
        " 'estimator__min_child_weight': 3.1999999, \n",
        " 'estimator__n_estimators': 288, \n",
        " 'estimator__subsample': 0.98098388}"
      ],
      "metadata": {
        "execution": {
          "iopub.status.busy": "2023-04-16T17:31:31.670890Z",
          "iopub.execute_input": "2023-04-16T17:31:31.672160Z",
          "iopub.status.idle": "2023-04-16T17:31:31.678625Z",
          "shell.execute_reply.started": "2023-04-16T17:31:31.672113Z",
          "shell.execute_reply": "2023-04-16T17:31:31.677505Z"
        },
        "trusted": true,
        "id": "rDSb5nrqI74P"
      },
      "execution_count": null,
      "outputs": []
    },
    {
      "cell_type": "code",
      "source": [
        "best_params_ = {kk: v for k, v in best_params_.items() for kk in k.split('__')}; del best_params_['estimator']"
      ],
      "metadata": {
        "execution": {
          "iopub.status.busy": "2023-04-16T17:31:31.706850Z",
          "iopub.execute_input": "2023-04-16T17:31:31.708513Z",
          "iopub.status.idle": "2023-04-16T17:31:31.715273Z",
          "shell.execute_reply.started": "2023-04-16T17:31:31.708437Z",
          "shell.execute_reply": "2023-04-16T17:31:31.713591Z"
        },
        "trusted": true,
        "id": "nQlqDS3FI74P"
      },
      "execution_count": null,
      "outputs": []
    },
    {
      "cell_type": "code",
      "source": [
        "from sklearn.base import clone\n",
        "def custom_average_precision(y_true, y_pred):\n",
        "    score = average_precision_score(y_true, y_pred)\n",
        "    return 'average_precision', score, True\n",
        "class LGBMMultiOutputRegressor(MultiOutputRegressor):\n",
        "    def fit(self, X, y, eval_set=None, **fit_params):\n",
        "        self.estimators_ = [clone(self.estimator) for _ in range(y.shape[1])]\n",
        "        for i, estimator in enumerate(self.estimators_):\n",
        "            if eval_set:\n",
        "                fit_params['eval_set'] = [(eval_set[0], eval_set[1][:, i])]\n",
        "            estimator.fit(X, y[:, i], **fit_params)\n",
        "        return self"
      ],
      "metadata": {
        "execution": {
          "iopub.status.busy": "2023-04-16T17:31:31.720823Z",
          "iopub.execute_input": "2023-04-16T17:31:31.721228Z",
          "iopub.status.idle": "2023-04-16T17:31:31.732894Z",
          "shell.execute_reply.started": "2023-04-16T17:31:31.721179Z",
          "shell.execute_reply": "2023-04-16T17:31:31.731419Z"
        },
        "trusted": true,
        "id": "dnmV4oi_I74P"
      },
      "execution_count": null,
      "outputs": []
    },
    {
      "cell_type": "code",
      "source": [
        "from sklearn.model_selection import GroupKFold\n",
        "N_FOLDS=5\n",
        "kfold = GroupKFold(N_FOLDS)\n",
        "group_var = traindata.Subject\n",
        "groups=kfold.split(traindata, groups=group_var)\n",
        "regs=[]\n",
        "cvs=[]\n",
        "for fold, (tr_idx,te_idx ) in enumerate(tqdm(groups, total=N_FOLDS, desc=\"Folds\")):\n",
        "    tr_idx=pd.Series(tr_idx).sample(n=2000000,random_state=42).values #2000000\n",
        "    \n",
        "    # Create a base XGBoost regressor with the common parameters\n",
        "    base_regressor = lgb.LGBMRegressor(**best_params_)\n",
        "\n",
        "    # Wrap the base regressor with the MultiOutputRegressor\n",
        "    multioutput_regressor = LGBMMultiOutputRegressor(base_regressor)\n",
        "\n",
        "    x_tr,y_tr=traindata.loc[tr_idx,cols].to_numpy(),traindata.loc[tr_idx,pcols].to_numpy()\n",
        "    x_te,y_te=traindata.loc[te_idx,cols].to_numpy(),traindata.loc[te_idx,pcols].to_numpy()\n",
        "\n",
        "    multioutput_regressor.fit(\n",
        "    x_tr,y_tr,\n",
        "    eval_set=(x_te,y_te),\n",
        "    eval_metric=custom_average_precision,\n",
        "    early_stopping_rounds=25\n",
        "    )\n",
        "    regs.append(multioutput_regressor)\n",
        "    cv=metrics.average_precision_score(y_te, multioutput_regressor.predict(x_te).clip(0.0,1.0))\n",
        "    cvs.append(cv)\n",
        "print(cvs)"
      ],
      "metadata": {
        "execution": {
          "iopub.status.busy": "2023-04-16T17:31:31.735021Z",
          "iopub.execute_input": "2023-04-16T17:31:31.735772Z",
          "iopub.status.idle": "2023-04-16T17:33:02.240243Z",
          "shell.execute_reply.started": "2023-04-16T17:31:31.735730Z",
          "shell.execute_reply": "2023-04-16T17:33:02.238275Z"
        },
        "trusted": true,
        "id": "wTCXE0hXI74P",
        "outputId": "510d33cb-a690-40b8-e53f-e9d97c07bd0b",
        "colab": {
          "referenced_widgets": [
            "a5f0725d121241a3a86c681a8d9a011a"
          ]
        }
      },
      "execution_count": null,
      "outputs": [
        {
          "output_type": "display_data",
          "data": {
            "text/plain": "Folds:   0%|          | 0/5 [00:00<?, ?it/s]",
            "application/vnd.jupyter.widget-view+json": {
              "version_major": 2,
              "version_minor": 0,
              "model_id": "a5f0725d121241a3a86c681a8d9a011a"
            }
          },
          "metadata": {}
        },
        {
          "name": "stderr",
          "text": "/opt/conda/lib/python3.7/site-packages/lightgbm/sklearn.py:726: UserWarning: 'early_stopping_rounds' argument is deprecated and will be removed in a future release of LightGBM. Pass 'early_stopping()' callback via 'callbacks' argument instead.\n  _log_warning(\"'early_stopping_rounds' argument is deprecated and will be removed in a future release of LightGBM. \"\n",
          "output_type": "stream"
        },
        {
          "name": "stdout",
          "text": "[1]\tvalid_0's l2: 0.0592891\tvalid_0's average_precision: 0.105081\n[2]\tvalid_0's l2: 0.0592402\tvalid_0's average_precision: 0.1647\n[3]\tvalid_0's l2: 0.0592886\tvalid_0's average_precision: 0.193504\n[4]\tvalid_0's l2: 0.0593824\tvalid_0's average_precision: 0.143542\n[5]\tvalid_0's l2: 0.0581968\tvalid_0's average_precision: 0.228144\n[6]\tvalid_0's l2: 0.0580793\tvalid_0's average_precision: 0.25356\n[7]\tvalid_0's l2: 0.0581254\tvalid_0's average_precision: 0.263817\n[8]\tvalid_0's l2: 0.0581722\tvalid_0's average_precision: 0.259841\n[9]\tvalid_0's l2: 0.0582307\tvalid_0's average_precision: 0.233535\n[10]\tvalid_0's l2: 0.0582415\tvalid_0's average_precision: 0.229277\n[11]\tvalid_0's l2: 0.0581319\tvalid_0's average_precision: 0.239953\n[12]\tvalid_0's l2: 0.0581416\tvalid_0's average_precision: 0.235437\n[13]\tvalid_0's l2: 0.0581647\tvalid_0's average_precision: 0.235006\n[14]\tvalid_0's l2: 0.0581869\tvalid_0's average_precision: 0.228987\n[15]\tvalid_0's l2: 0.0582672\tvalid_0's average_precision: 0.218093\n[16]\tvalid_0's l2: 0.0582203\tvalid_0's average_precision: 0.21779\n[17]\tvalid_0's l2: 0.058102\tvalid_0's average_precision: 0.2084\n[18]\tvalid_0's l2: 0.0581821\tvalid_0's average_precision: 0.180467\n[19]\tvalid_0's l2: 0.0581615\tvalid_0's average_precision: 0.18355\n[20]\tvalid_0's l2: 0.0581673\tvalid_0's average_precision: 0.183779\n[21]\tvalid_0's l2: 0.0581702\tvalid_0's average_precision: 0.183851\n[22]\tvalid_0's l2: 0.0582157\tvalid_0's average_precision: 0.17359\n[23]\tvalid_0's l2: 0.0580837\tvalid_0's average_precision: 0.181037\n[24]\tvalid_0's l2: 0.0580869\tvalid_0's average_precision: 0.180775\n[25]\tvalid_0's l2: 0.0582033\tvalid_0's average_precision: 0.174519\n[26]\tvalid_0's l2: 0.0582191\tvalid_0's average_precision: 0.173281\n[27]\tvalid_0's l2: 0.0582167\tvalid_0's average_precision: 0.174075\n[28]\tvalid_0's l2: 0.0582115\tvalid_0's average_precision: 0.174397\n[29]\tvalid_0's l2: 0.0582106\tvalid_0's average_precision: 0.174475\n[30]\tvalid_0's l2: 0.0581461\tvalid_0's average_precision: 0.155516\n[31]\tvalid_0's l2: 0.0581485\tvalid_0's average_precision: 0.154793\n",
          "output_type": "stream"
        },
        {
          "name": "stderr",
          "text": "/opt/conda/lib/python3.7/site-packages/lightgbm/sklearn.py:726: UserWarning: 'early_stopping_rounds' argument is deprecated and will be removed in a future release of LightGBM. Pass 'early_stopping()' callback via 'callbacks' argument instead.\n  _log_warning(\"'early_stopping_rounds' argument is deprecated and will be removed in a future release of LightGBM. \"\n",
          "output_type": "stream"
        },
        {
          "traceback": [
            "\u001b[0;31m---------------------------------------------------------------------------\u001b[0m",
            "\u001b[0;31mKeyboardInterrupt\u001b[0m                         Traceback (most recent call last)",
            "\u001b[0;32m/tmp/ipykernel_27/3613358995.py\u001b[0m in \u001b[0;36m<module>\u001b[0;34m\u001b[0m\n\u001b[1;32m     23\u001b[0m     \u001b[0meval_set\u001b[0m\u001b[0;34m=\u001b[0m\u001b[0;34m(\u001b[0m\u001b[0mx_te\u001b[0m\u001b[0;34m,\u001b[0m\u001b[0my_te\u001b[0m\u001b[0;34m)\u001b[0m\u001b[0;34m,\u001b[0m\u001b[0;34m\u001b[0m\u001b[0;34m\u001b[0m\u001b[0m\n\u001b[1;32m     24\u001b[0m     \u001b[0meval_metric\u001b[0m\u001b[0;34m=\u001b[0m\u001b[0mcustom_average_precision\u001b[0m\u001b[0;34m,\u001b[0m\u001b[0;34m\u001b[0m\u001b[0;34m\u001b[0m\u001b[0m\n\u001b[0;32m---> 25\u001b[0;31m     \u001b[0mearly_stopping_rounds\u001b[0m\u001b[0;34m=\u001b[0m\u001b[0;36m25\u001b[0m\u001b[0;34m\u001b[0m\u001b[0;34m\u001b[0m\u001b[0m\n\u001b[0m\u001b[1;32m     26\u001b[0m     )\n\u001b[1;32m     27\u001b[0m     \u001b[0mregs\u001b[0m\u001b[0;34m.\u001b[0m\u001b[0mappend\u001b[0m\u001b[0;34m(\u001b[0m\u001b[0mmultioutput_regressor\u001b[0m\u001b[0;34m)\u001b[0m\u001b[0;34m\u001b[0m\u001b[0;34m\u001b[0m\u001b[0m\n",
            "\u001b[0;32m/tmp/ipykernel_27/3921976891.py\u001b[0m in \u001b[0;36mfit\u001b[0;34m(self, X, y, eval_set, **fit_params)\u001b[0m\n\u001b[1;32m     12\u001b[0m             \u001b[0;32mif\u001b[0m \u001b[0meval_set\u001b[0m\u001b[0;34m:\u001b[0m\u001b[0;34m\u001b[0m\u001b[0;34m\u001b[0m\u001b[0m\n\u001b[1;32m     13\u001b[0m                 \u001b[0mfit_params\u001b[0m\u001b[0;34m[\u001b[0m\u001b[0;34m'eval_set'\u001b[0m\u001b[0;34m]\u001b[0m \u001b[0;34m=\u001b[0m \u001b[0;34m[\u001b[0m\u001b[0;34m(\u001b[0m\u001b[0meval_set\u001b[0m\u001b[0;34m[\u001b[0m\u001b[0;36m0\u001b[0m\u001b[0;34m]\u001b[0m\u001b[0;34m,\u001b[0m \u001b[0meval_set\u001b[0m\u001b[0;34m[\u001b[0m\u001b[0;36m1\u001b[0m\u001b[0;34m]\u001b[0m\u001b[0;34m[\u001b[0m\u001b[0;34m:\u001b[0m\u001b[0;34m,\u001b[0m \u001b[0mi\u001b[0m\u001b[0;34m]\u001b[0m\u001b[0;34m)\u001b[0m\u001b[0;34m]\u001b[0m\u001b[0;34m\u001b[0m\u001b[0;34m\u001b[0m\u001b[0m\n\u001b[0;32m---> 14\u001b[0;31m             \u001b[0mestimator\u001b[0m\u001b[0;34m.\u001b[0m\u001b[0mfit\u001b[0m\u001b[0;34m(\u001b[0m\u001b[0mX\u001b[0m\u001b[0;34m,\u001b[0m \u001b[0my\u001b[0m\u001b[0;34m[\u001b[0m\u001b[0;34m:\u001b[0m\u001b[0;34m,\u001b[0m \u001b[0mi\u001b[0m\u001b[0;34m]\u001b[0m\u001b[0;34m,\u001b[0m \u001b[0;34m**\u001b[0m\u001b[0mfit_params\u001b[0m\u001b[0;34m)\u001b[0m\u001b[0;34m\u001b[0m\u001b[0;34m\u001b[0m\u001b[0m\n\u001b[0m\u001b[1;32m     15\u001b[0m \u001b[0;34m\u001b[0m\u001b[0m\n\u001b[1;32m     16\u001b[0m         \u001b[0;32mreturn\u001b[0m \u001b[0mself\u001b[0m\u001b[0;34m\u001b[0m\u001b[0;34m\u001b[0m\u001b[0m\n",
            "\u001b[0;32m/opt/conda/lib/python3.7/site-packages/lightgbm/sklearn.py\u001b[0m in \u001b[0;36mfit\u001b[0;34m(self, X, y, sample_weight, init_score, eval_set, eval_names, eval_sample_weight, eval_init_score, eval_metric, early_stopping_rounds, verbose, feature_name, categorical_feature, callbacks, init_model)\u001b[0m\n\u001b[1;32m    897\u001b[0m                     \u001b[0meval_init_score\u001b[0m\u001b[0;34m=\u001b[0m\u001b[0meval_init_score\u001b[0m\u001b[0;34m,\u001b[0m \u001b[0meval_metric\u001b[0m\u001b[0;34m=\u001b[0m\u001b[0meval_metric\u001b[0m\u001b[0;34m,\u001b[0m\u001b[0;34m\u001b[0m\u001b[0;34m\u001b[0m\u001b[0m\n\u001b[1;32m    898\u001b[0m                     \u001b[0mearly_stopping_rounds\u001b[0m\u001b[0;34m=\u001b[0m\u001b[0mearly_stopping_rounds\u001b[0m\u001b[0;34m,\u001b[0m \u001b[0mverbose\u001b[0m\u001b[0;34m=\u001b[0m\u001b[0mverbose\u001b[0m\u001b[0;34m,\u001b[0m \u001b[0mfeature_name\u001b[0m\u001b[0;34m=\u001b[0m\u001b[0mfeature_name\u001b[0m\u001b[0;34m,\u001b[0m\u001b[0;34m\u001b[0m\u001b[0;34m\u001b[0m\u001b[0m\n\u001b[0;32m--> 899\u001b[0;31m                     categorical_feature=categorical_feature, callbacks=callbacks, init_model=init_model)\n\u001b[0m\u001b[1;32m    900\u001b[0m         \u001b[0;32mreturn\u001b[0m \u001b[0mself\u001b[0m\u001b[0;34m\u001b[0m\u001b[0;34m\u001b[0m\u001b[0m\n\u001b[1;32m    901\u001b[0m \u001b[0;34m\u001b[0m\u001b[0m\n",
            "\u001b[0;32m/opt/conda/lib/python3.7/site-packages/lightgbm/sklearn.py\u001b[0m in \u001b[0;36mfit\u001b[0;34m(self, X, y, sample_weight, init_score, group, eval_set, eval_names, eval_sample_weight, eval_class_weight, eval_init_score, eval_group, eval_metric, early_stopping_rounds, verbose, feature_name, categorical_feature, callbacks, init_model)\u001b[0m\n\u001b[1;32m    756\u001b[0m             \u001b[0minit_model\u001b[0m\u001b[0;34m=\u001b[0m\u001b[0minit_model\u001b[0m\u001b[0;34m,\u001b[0m\u001b[0;34m\u001b[0m\u001b[0;34m\u001b[0m\u001b[0m\n\u001b[1;32m    757\u001b[0m             \u001b[0mfeature_name\u001b[0m\u001b[0;34m=\u001b[0m\u001b[0mfeature_name\u001b[0m\u001b[0;34m,\u001b[0m\u001b[0;34m\u001b[0m\u001b[0;34m\u001b[0m\u001b[0m\n\u001b[0;32m--> 758\u001b[0;31m             \u001b[0mcallbacks\u001b[0m\u001b[0;34m=\u001b[0m\u001b[0mcallbacks\u001b[0m\u001b[0;34m\u001b[0m\u001b[0;34m\u001b[0m\u001b[0m\n\u001b[0m\u001b[1;32m    759\u001b[0m         )\n\u001b[1;32m    760\u001b[0m \u001b[0;34m\u001b[0m\u001b[0m\n",
            "\u001b[0;32m/opt/conda/lib/python3.7/site-packages/lightgbm/engine.py\u001b[0m in \u001b[0;36mtrain\u001b[0;34m(params, train_set, num_boost_round, valid_sets, valid_names, fobj, feval, init_model, feature_name, categorical_feature, early_stopping_rounds, evals_result, verbose_eval, learning_rates, keep_training_booster, callbacks)\u001b[0m\n\u001b[1;32m    297\u001b[0m             \u001b[0;32mif\u001b[0m \u001b[0mis_valid_contain_train\u001b[0m\u001b[0;34m:\u001b[0m\u001b[0;34m\u001b[0m\u001b[0;34m\u001b[0m\u001b[0m\n\u001b[1;32m    298\u001b[0m                 \u001b[0mevaluation_result_list\u001b[0m\u001b[0;34m.\u001b[0m\u001b[0mextend\u001b[0m\u001b[0;34m(\u001b[0m\u001b[0mbooster\u001b[0m\u001b[0;34m.\u001b[0m\u001b[0meval_train\u001b[0m\u001b[0;34m(\u001b[0m\u001b[0mfeval\u001b[0m\u001b[0;34m)\u001b[0m\u001b[0;34m)\u001b[0m\u001b[0;34m\u001b[0m\u001b[0;34m\u001b[0m\u001b[0m\n\u001b[0;32m--> 299\u001b[0;31m             \u001b[0mevaluation_result_list\u001b[0m\u001b[0;34m.\u001b[0m\u001b[0mextend\u001b[0m\u001b[0;34m(\u001b[0m\u001b[0mbooster\u001b[0m\u001b[0;34m.\u001b[0m\u001b[0meval_valid\u001b[0m\u001b[0;34m(\u001b[0m\u001b[0mfeval\u001b[0m\u001b[0;34m)\u001b[0m\u001b[0;34m)\u001b[0m\u001b[0;34m\u001b[0m\u001b[0;34m\u001b[0m\u001b[0m\n\u001b[0m\u001b[1;32m    300\u001b[0m         \u001b[0;32mtry\u001b[0m\u001b[0;34m:\u001b[0m\u001b[0;34m\u001b[0m\u001b[0;34m\u001b[0m\u001b[0m\n\u001b[1;32m    301\u001b[0m             \u001b[0;32mfor\u001b[0m \u001b[0mcb\u001b[0m \u001b[0;32min\u001b[0m \u001b[0mcallbacks_after_iter\u001b[0m\u001b[0;34m:\u001b[0m\u001b[0;34m\u001b[0m\u001b[0;34m\u001b[0m\u001b[0m\n",
            "\u001b[0;32m/opt/conda/lib/python3.7/site-packages/lightgbm/basic.py\u001b[0m in \u001b[0;36meval_valid\u001b[0;34m(self, feval)\u001b[0m\n\u001b[1;32m   3269\u001b[0m             \u001b[0mList\u001b[0m \u001b[0;32mwith\u001b[0m \u001b[0mevaluation\u001b[0m \u001b[0mresults\u001b[0m\u001b[0;34m.\u001b[0m\u001b[0;34m\u001b[0m\u001b[0;34m\u001b[0m\u001b[0m\n\u001b[1;32m   3270\u001b[0m         \"\"\"\n\u001b[0;32m-> 3271\u001b[0;31m         return [item for i in range(1, self.__num_dataset)\n\u001b[0m\u001b[1;32m   3272\u001b[0m                 for item in self.__inner_eval(self.name_valid_sets[i - 1], i, feval)]\n\u001b[1;32m   3273\u001b[0m \u001b[0;34m\u001b[0m\u001b[0m\n",
            "\u001b[0;32m/opt/conda/lib/python3.7/site-packages/lightgbm/basic.py\u001b[0m in \u001b[0;36m<listcomp>\u001b[0;34m(.0)\u001b[0m\n\u001b[1;32m   3270\u001b[0m         \"\"\"\n\u001b[1;32m   3271\u001b[0m         return [item for i in range(1, self.__num_dataset)\n\u001b[0;32m-> 3272\u001b[0;31m                 for item in self.__inner_eval(self.name_valid_sets[i - 1], i, feval)]\n\u001b[0m\u001b[1;32m   3273\u001b[0m \u001b[0;34m\u001b[0m\u001b[0m\n\u001b[1;32m   3274\u001b[0m     \u001b[0;32mdef\u001b[0m \u001b[0msave_model\u001b[0m\u001b[0;34m(\u001b[0m\u001b[0mself\u001b[0m\u001b[0;34m,\u001b[0m \u001b[0mfilename\u001b[0m\u001b[0;34m,\u001b[0m \u001b[0mnum_iteration\u001b[0m\u001b[0;34m=\u001b[0m\u001b[0;32mNone\u001b[0m\u001b[0;34m,\u001b[0m \u001b[0mstart_iteration\u001b[0m\u001b[0;34m=\u001b[0m\u001b[0;36m0\u001b[0m\u001b[0;34m,\u001b[0m \u001b[0mimportance_type\u001b[0m\u001b[0;34m=\u001b[0m\u001b[0;34m'split'\u001b[0m\u001b[0;34m)\u001b[0m\u001b[0;34m:\u001b[0m\u001b[0;34m\u001b[0m\u001b[0;34m\u001b[0m\u001b[0m\n",
            "\u001b[0;32m/opt/conda/lib/python3.7/site-packages/lightgbm/basic.py\u001b[0m in \u001b[0;36m__inner_eval\u001b[0;34m(self, data_name, data_idx, feval)\u001b[0m\n\u001b[1;32m   3807\u001b[0m                 \u001b[0;32mif\u001b[0m \u001b[0meval_function\u001b[0m \u001b[0;32mis\u001b[0m \u001b[0;32mNone\u001b[0m\u001b[0;34m:\u001b[0m\u001b[0;34m\u001b[0m\u001b[0;34m\u001b[0m\u001b[0m\n\u001b[1;32m   3808\u001b[0m                     \u001b[0;32mcontinue\u001b[0m\u001b[0;34m\u001b[0m\u001b[0;34m\u001b[0m\u001b[0m\n\u001b[0;32m-> 3809\u001b[0;31m                 \u001b[0mfeval_ret\u001b[0m \u001b[0;34m=\u001b[0m \u001b[0meval_function\u001b[0m\u001b[0;34m(\u001b[0m\u001b[0mself\u001b[0m\u001b[0;34m.\u001b[0m\u001b[0m__inner_predict\u001b[0m\u001b[0;34m(\u001b[0m\u001b[0mdata_idx\u001b[0m\u001b[0;34m)\u001b[0m\u001b[0;34m,\u001b[0m \u001b[0mcur_data\u001b[0m\u001b[0;34m)\u001b[0m\u001b[0;34m\u001b[0m\u001b[0;34m\u001b[0m\u001b[0m\n\u001b[0m\u001b[1;32m   3810\u001b[0m                 \u001b[0;32mif\u001b[0m \u001b[0misinstance\u001b[0m\u001b[0;34m(\u001b[0m\u001b[0mfeval_ret\u001b[0m\u001b[0;34m,\u001b[0m \u001b[0mlist\u001b[0m\u001b[0;34m)\u001b[0m\u001b[0;34m:\u001b[0m\u001b[0;34m\u001b[0m\u001b[0;34m\u001b[0m\u001b[0m\n\u001b[1;32m   3811\u001b[0m                     \u001b[0;32mfor\u001b[0m \u001b[0meval_name\u001b[0m\u001b[0;34m,\u001b[0m \u001b[0mval\u001b[0m\u001b[0;34m,\u001b[0m \u001b[0mis_higher_better\u001b[0m \u001b[0;32min\u001b[0m \u001b[0mfeval_ret\u001b[0m\u001b[0;34m:\u001b[0m\u001b[0;34m\u001b[0m\u001b[0;34m\u001b[0m\u001b[0m\n",
            "\u001b[0;32m/opt/conda/lib/python3.7/site-packages/lightgbm/sklearn.py\u001b[0m in \u001b[0;36m__call__\u001b[0;34m(self, preds, dataset)\u001b[0m\n\u001b[1;32m    174\u001b[0m         \u001b[0margc\u001b[0m \u001b[0;34m=\u001b[0m \u001b[0mlen\u001b[0m\u001b[0;34m(\u001b[0m\u001b[0msignature\u001b[0m\u001b[0;34m(\u001b[0m\u001b[0mself\u001b[0m\u001b[0;34m.\u001b[0m\u001b[0mfunc\u001b[0m\u001b[0;34m)\u001b[0m\u001b[0;34m.\u001b[0m\u001b[0mparameters\u001b[0m\u001b[0;34m)\u001b[0m\u001b[0;34m\u001b[0m\u001b[0;34m\u001b[0m\u001b[0m\n\u001b[1;32m    175\u001b[0m         \u001b[0;32mif\u001b[0m \u001b[0margc\u001b[0m \u001b[0;34m==\u001b[0m \u001b[0;36m2\u001b[0m\u001b[0;34m:\u001b[0m\u001b[0;34m\u001b[0m\u001b[0;34m\u001b[0m\u001b[0m\n\u001b[0;32m--> 176\u001b[0;31m             \u001b[0;32mreturn\u001b[0m \u001b[0mself\u001b[0m\u001b[0;34m.\u001b[0m\u001b[0mfunc\u001b[0m\u001b[0;34m(\u001b[0m\u001b[0mlabels\u001b[0m\u001b[0;34m,\u001b[0m \u001b[0mpreds\u001b[0m\u001b[0;34m)\u001b[0m\u001b[0;34m\u001b[0m\u001b[0;34m\u001b[0m\u001b[0m\n\u001b[0m\u001b[1;32m    177\u001b[0m         \u001b[0;32melif\u001b[0m \u001b[0margc\u001b[0m \u001b[0;34m==\u001b[0m \u001b[0;36m3\u001b[0m\u001b[0;34m:\u001b[0m\u001b[0;34m\u001b[0m\u001b[0;34m\u001b[0m\u001b[0m\n\u001b[1;32m    178\u001b[0m             \u001b[0;32mreturn\u001b[0m \u001b[0mself\u001b[0m\u001b[0;34m.\u001b[0m\u001b[0mfunc\u001b[0m\u001b[0;34m(\u001b[0m\u001b[0mlabels\u001b[0m\u001b[0;34m,\u001b[0m \u001b[0mpreds\u001b[0m\u001b[0;34m,\u001b[0m \u001b[0mdataset\u001b[0m\u001b[0;34m.\u001b[0m\u001b[0mget_weight\u001b[0m\u001b[0;34m(\u001b[0m\u001b[0;34m)\u001b[0m\u001b[0;34m)\u001b[0m\u001b[0;34m\u001b[0m\u001b[0;34m\u001b[0m\u001b[0m\n",
            "\u001b[0;32m/tmp/ipykernel_27/3921976891.py\u001b[0m in \u001b[0;36mcustom_average_precision\u001b[0;34m(y_true, y_pred)\u001b[0m\n\u001b[1;32m      2\u001b[0m \u001b[0;34m\u001b[0m\u001b[0m\n\u001b[1;32m      3\u001b[0m \u001b[0;32mdef\u001b[0m \u001b[0mcustom_average_precision\u001b[0m\u001b[0;34m(\u001b[0m\u001b[0my_true\u001b[0m\u001b[0;34m,\u001b[0m \u001b[0my_pred\u001b[0m\u001b[0;34m)\u001b[0m\u001b[0;34m:\u001b[0m\u001b[0;34m\u001b[0m\u001b[0;34m\u001b[0m\u001b[0m\n\u001b[0;32m----> 4\u001b[0;31m     \u001b[0mscore\u001b[0m \u001b[0;34m=\u001b[0m \u001b[0maverage_precision_score\u001b[0m\u001b[0;34m(\u001b[0m\u001b[0my_true\u001b[0m\u001b[0;34m,\u001b[0m \u001b[0my_pred\u001b[0m\u001b[0;34m)\u001b[0m\u001b[0;34m\u001b[0m\u001b[0;34m\u001b[0m\u001b[0m\n\u001b[0m\u001b[1;32m      5\u001b[0m     \u001b[0;32mreturn\u001b[0m \u001b[0;34m'average_precision'\u001b[0m\u001b[0;34m,\u001b[0m \u001b[0mscore\u001b[0m\u001b[0;34m,\u001b[0m \u001b[0;32mTrue\u001b[0m\u001b[0;34m\u001b[0m\u001b[0;34m\u001b[0m\u001b[0m\n\u001b[1;32m      6\u001b[0m \u001b[0;34m\u001b[0m\u001b[0m\n",
            "\u001b[0;32m/opt/conda/lib/python3.7/site-packages/sklearn/metrics/_ranking.py\u001b[0m in \u001b[0;36maverage_precision_score\u001b[0;34m(y_true, y_score, average, pos_label, sample_weight)\u001b[0m\n\u001b[1;32m    231\u001b[0m     )\n\u001b[1;32m    232\u001b[0m     return _average_binary_score(\n\u001b[0;32m--> 233\u001b[0;31m         \u001b[0maverage_precision\u001b[0m\u001b[0;34m,\u001b[0m \u001b[0my_true\u001b[0m\u001b[0;34m,\u001b[0m \u001b[0my_score\u001b[0m\u001b[0;34m,\u001b[0m \u001b[0maverage\u001b[0m\u001b[0;34m,\u001b[0m \u001b[0msample_weight\u001b[0m\u001b[0;34m=\u001b[0m\u001b[0msample_weight\u001b[0m\u001b[0;34m\u001b[0m\u001b[0;34m\u001b[0m\u001b[0m\n\u001b[0m\u001b[1;32m    234\u001b[0m     )\n\u001b[1;32m    235\u001b[0m \u001b[0;34m\u001b[0m\u001b[0m\n",
            "\u001b[0;32m/opt/conda/lib/python3.7/site-packages/sklearn/metrics/_base.py\u001b[0m in \u001b[0;36m_average_binary_score\u001b[0;34m(binary_metric, y_true, y_score, average, sample_weight)\u001b[0m\n\u001b[1;32m     68\u001b[0m         \u001b[0;32mraise\u001b[0m \u001b[0mValueError\u001b[0m\u001b[0;34m(\u001b[0m\u001b[0;34m\"average has to be one of {0}\"\u001b[0m\u001b[0;34m.\u001b[0m\u001b[0mformat\u001b[0m\u001b[0;34m(\u001b[0m\u001b[0maverage_options\u001b[0m\u001b[0;34m)\u001b[0m\u001b[0;34m)\u001b[0m\u001b[0;34m\u001b[0m\u001b[0;34m\u001b[0m\u001b[0m\n\u001b[1;32m     69\u001b[0m \u001b[0;34m\u001b[0m\u001b[0m\n\u001b[0;32m---> 70\u001b[0;31m     \u001b[0my_type\u001b[0m \u001b[0;34m=\u001b[0m \u001b[0mtype_of_target\u001b[0m\u001b[0;34m(\u001b[0m\u001b[0my_true\u001b[0m\u001b[0;34m)\u001b[0m\u001b[0;34m\u001b[0m\u001b[0;34m\u001b[0m\u001b[0m\n\u001b[0m\u001b[1;32m     71\u001b[0m     \u001b[0;32mif\u001b[0m \u001b[0my_type\u001b[0m \u001b[0;32mnot\u001b[0m \u001b[0;32min\u001b[0m \u001b[0;34m(\u001b[0m\u001b[0;34m\"binary\"\u001b[0m\u001b[0;34m,\u001b[0m \u001b[0;34m\"multilabel-indicator\"\u001b[0m\u001b[0;34m)\u001b[0m\u001b[0;34m:\u001b[0m\u001b[0;34m\u001b[0m\u001b[0;34m\u001b[0m\u001b[0m\n\u001b[1;32m     72\u001b[0m         \u001b[0;32mraise\u001b[0m \u001b[0mValueError\u001b[0m\u001b[0;34m(\u001b[0m\u001b[0;34m\"{0} format is not supported\"\u001b[0m\u001b[0;34m.\u001b[0m\u001b[0mformat\u001b[0m\u001b[0;34m(\u001b[0m\u001b[0my_type\u001b[0m\u001b[0;34m)\u001b[0m\u001b[0;34m)\u001b[0m\u001b[0;34m\u001b[0m\u001b[0;34m\u001b[0m\u001b[0m\n",
            "\u001b[0;32m/opt/conda/lib/python3.7/site-packages/sklearn/utils/multiclass.py\u001b[0m in \u001b[0;36mtype_of_target\u001b[0;34m(y)\u001b[0m\n\u001b[1;32m    325\u001b[0m         \u001b[0;32mreturn\u001b[0m \u001b[0;34m\"continuous\"\u001b[0m \u001b[0;34m+\u001b[0m \u001b[0msuffix\u001b[0m\u001b[0;34m\u001b[0m\u001b[0;34m\u001b[0m\u001b[0m\n\u001b[1;32m    326\u001b[0m \u001b[0;34m\u001b[0m\u001b[0m\n\u001b[0;32m--> 327\u001b[0;31m     \u001b[0;32mif\u001b[0m \u001b[0;34m(\u001b[0m\u001b[0mlen\u001b[0m\u001b[0;34m(\u001b[0m\u001b[0mnp\u001b[0m\u001b[0;34m.\u001b[0m\u001b[0munique\u001b[0m\u001b[0;34m(\u001b[0m\u001b[0my\u001b[0m\u001b[0;34m)\u001b[0m\u001b[0;34m)\u001b[0m \u001b[0;34m>\u001b[0m \u001b[0;36m2\u001b[0m\u001b[0;34m)\u001b[0m \u001b[0;32mor\u001b[0m \u001b[0;34m(\u001b[0m\u001b[0my\u001b[0m\u001b[0;34m.\u001b[0m\u001b[0mndim\u001b[0m \u001b[0;34m>=\u001b[0m \u001b[0;36m2\u001b[0m \u001b[0;32mand\u001b[0m \u001b[0mlen\u001b[0m\u001b[0;34m(\u001b[0m\u001b[0my\u001b[0m\u001b[0;34m[\u001b[0m\u001b[0;36m0\u001b[0m\u001b[0;34m]\u001b[0m\u001b[0;34m)\u001b[0m \u001b[0;34m>\u001b[0m \u001b[0;36m1\u001b[0m\u001b[0;34m)\u001b[0m\u001b[0;34m:\u001b[0m\u001b[0;34m\u001b[0m\u001b[0;34m\u001b[0m\u001b[0m\n\u001b[0m\u001b[1;32m    328\u001b[0m         \u001b[0;32mreturn\u001b[0m \u001b[0;34m\"multiclass\"\u001b[0m \u001b[0;34m+\u001b[0m \u001b[0msuffix\u001b[0m  \u001b[0;31m# [1, 2, 3] or [[1., 2., 3]] or [[1, 2]]\u001b[0m\u001b[0;34m\u001b[0m\u001b[0;34m\u001b[0m\u001b[0m\n\u001b[1;32m    329\u001b[0m     \u001b[0;32melse\u001b[0m\u001b[0;34m:\u001b[0m\u001b[0;34m\u001b[0m\u001b[0;34m\u001b[0m\u001b[0m\n",
            "\u001b[0;32m<__array_function__ internals>\u001b[0m in \u001b[0;36munique\u001b[0;34m(*args, **kwargs)\u001b[0m\n",
            "\u001b[0;32m/opt/conda/lib/python3.7/site-packages/numpy/lib/arraysetops.py\u001b[0m in \u001b[0;36munique\u001b[0;34m(ar, return_index, return_inverse, return_counts, axis)\u001b[0m\n\u001b[1;32m    270\u001b[0m     \u001b[0mar\u001b[0m \u001b[0;34m=\u001b[0m \u001b[0mnp\u001b[0m\u001b[0;34m.\u001b[0m\u001b[0masanyarray\u001b[0m\u001b[0;34m(\u001b[0m\u001b[0mar\u001b[0m\u001b[0;34m)\u001b[0m\u001b[0;34m\u001b[0m\u001b[0;34m\u001b[0m\u001b[0m\n\u001b[1;32m    271\u001b[0m     \u001b[0;32mif\u001b[0m \u001b[0maxis\u001b[0m \u001b[0;32mis\u001b[0m \u001b[0;32mNone\u001b[0m\u001b[0;34m:\u001b[0m\u001b[0;34m\u001b[0m\u001b[0;34m\u001b[0m\u001b[0m\n\u001b[0;32m--> 272\u001b[0;31m         \u001b[0mret\u001b[0m \u001b[0;34m=\u001b[0m \u001b[0m_unique1d\u001b[0m\u001b[0;34m(\u001b[0m\u001b[0mar\u001b[0m\u001b[0;34m,\u001b[0m \u001b[0mreturn_index\u001b[0m\u001b[0;34m,\u001b[0m \u001b[0mreturn_inverse\u001b[0m\u001b[0;34m,\u001b[0m \u001b[0mreturn_counts\u001b[0m\u001b[0;34m)\u001b[0m\u001b[0;34m\u001b[0m\u001b[0;34m\u001b[0m\u001b[0m\n\u001b[0m\u001b[1;32m    273\u001b[0m         \u001b[0;32mreturn\u001b[0m \u001b[0m_unpack_tuple\u001b[0m\u001b[0;34m(\u001b[0m\u001b[0mret\u001b[0m\u001b[0;34m)\u001b[0m\u001b[0;34m\u001b[0m\u001b[0;34m\u001b[0m\u001b[0m\n\u001b[1;32m    274\u001b[0m \u001b[0;34m\u001b[0m\u001b[0m\n",
            "\u001b[0;32m/opt/conda/lib/python3.7/site-packages/numpy/lib/arraysetops.py\u001b[0m in \u001b[0;36m_unique1d\u001b[0;34m(ar, return_index, return_inverse, return_counts)\u001b[0m\n\u001b[1;32m    331\u001b[0m         \u001b[0maux\u001b[0m \u001b[0;34m=\u001b[0m \u001b[0mar\u001b[0m\u001b[0;34m[\u001b[0m\u001b[0mperm\u001b[0m\u001b[0;34m]\u001b[0m\u001b[0;34m\u001b[0m\u001b[0;34m\u001b[0m\u001b[0m\n\u001b[1;32m    332\u001b[0m     \u001b[0;32melse\u001b[0m\u001b[0;34m:\u001b[0m\u001b[0;34m\u001b[0m\u001b[0;34m\u001b[0m\u001b[0m\n\u001b[0;32m--> 333\u001b[0;31m         \u001b[0mar\u001b[0m\u001b[0;34m.\u001b[0m\u001b[0msort\u001b[0m\u001b[0;34m(\u001b[0m\u001b[0;34m)\u001b[0m\u001b[0;34m\u001b[0m\u001b[0;34m\u001b[0m\u001b[0m\n\u001b[0m\u001b[1;32m    334\u001b[0m         \u001b[0maux\u001b[0m \u001b[0;34m=\u001b[0m \u001b[0mar\u001b[0m\u001b[0;34m\u001b[0m\u001b[0;34m\u001b[0m\u001b[0m\n\u001b[1;32m    335\u001b[0m     \u001b[0mmask\u001b[0m \u001b[0;34m=\u001b[0m \u001b[0mnp\u001b[0m\u001b[0;34m.\u001b[0m\u001b[0mempty\u001b[0m\u001b[0;34m(\u001b[0m\u001b[0maux\u001b[0m\u001b[0;34m.\u001b[0m\u001b[0mshape\u001b[0m\u001b[0;34m,\u001b[0m \u001b[0mdtype\u001b[0m\u001b[0;34m=\u001b[0m\u001b[0mnp\u001b[0m\u001b[0;34m.\u001b[0m\u001b[0mbool_\u001b[0m\u001b[0;34m)\u001b[0m\u001b[0;34m\u001b[0m\u001b[0;34m\u001b[0m\u001b[0m\n",
            "\u001b[0;31mKeyboardInterrupt\u001b[0m: "
          ],
          "ename": "KeyboardInterrupt",
          "evalue": "",
          "output_type": "error"
        }
      ]
    },
    {
      "cell_type": "code",
      "source": [
        "samsub['t'] = 0\n",
        "submission = []\n",
        "for f in testdata:\n",
        "    df = pd.read_csv(f)\n",
        "    df.set_index('Time', drop=True, inplace=True)\n",
        "    df['Id'] = f.split('/')[-1].split('.')[0]\n",
        "    df['Time_frac']=(df.index/df.index.max()).values\n",
        "    df = pd.merge(df, task[['Id','t_kmeans']], how='left', on='Id').fillna(-1)\n",
        "    df = pd.merge(df, metadata_complex[['Id','Subject']+['Visit','Test','Medication','s_kmeans']], how='left', on='Id').fillna(-1)\n",
        "    df_feats = fc.calculate(df, return_df=True, include_final_window=True, approve_sparsity=True, window_idx=\"begin\")\n",
        "    df = df.merge(df_feats, how=\"left\", left_index=True, right_index=True)\n",
        "    df.fillna(method=\"ffill\", inplace=True)   \n",
        "    res_vals=[]\n",
        "    for i_fold in range(N_FOLDS):\n",
        "        res_val=np.round(regs[i_fold].predict(df[cols]).clip(0.0,1.0),3)\n",
        "        res_vals.append(np.expand_dims(res_val,axis=2))\n",
        "    res_vals=np.mean(np.concatenate(res_vals,axis=2),axis=2)\n",
        "    res = pd.DataFrame(res_vals, columns=pcols)\n",
        "    df = pd.concat([df,res], axis=1)\n",
        "    df['Id'] = df['Id'].astype(str) + '_' + df.index.astype(str)\n",
        "    submission.append(df[scols])\n",
        "submission = pd.concat(submission)\n",
        "submission = pd.merge(samsub[['Id']], submission, how='left', on='Id').fillna(0.0)\n",
        "submission[scols].to_csv('submission.csv', index=False)"
      ],
      "metadata": {
        "execution": {
          "iopub.status.busy": "2023-04-16T17:33:02.241214Z",
          "iopub.status.idle": "2023-04-16T17:33:02.241709Z",
          "shell.execute_reply.started": "2023-04-16T17:33:02.241469Z",
          "shell.execute_reply": "2023-04-16T17:33:02.241503Z"
        },
        "trusted": true,
        "id": "arqs6xEdI74P"
      },
      "execution_count": null,
      "outputs": []
    },
    {
      "cell_type": "code",
      "source": [
        "submission"
      ],
      "metadata": {
        "execution": {
          "iopub.status.busy": "2023-04-16T17:33:02.243410Z",
          "iopub.status.idle": "2023-04-16T17:33:02.244317Z",
          "shell.execute_reply.started": "2023-04-16T17:33:02.244060Z",
          "shell.execute_reply": "2023-04-16T17:33:02.244098Z"
        },
        "trusted": true,
        "id": "bDofLhnII74Q"
      },
      "execution_count": null,
      "outputs": []
    }
  ]
}